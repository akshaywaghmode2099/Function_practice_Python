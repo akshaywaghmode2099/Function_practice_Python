{
 "cells": [
  {
   "cell_type": "code",
   "execution_count": null,
   "id": "de20e091",
   "metadata": {},
   "outputs": [],
   "source": []
  },
  {
   "cell_type": "markdown",
   "id": "ff2c7801",
   "metadata": {},
   "source": [
    "## function "
   ]
  },
  {
   "cell_type": "code",
   "execution_count": null,
   "id": "9839a221",
   "metadata": {},
   "outputs": [],
   "source": [
    "use of function :\n",
    "    repeated "
   ]
  },
  {
   "cell_type": "code",
   "execution_count": null,
   "id": "65a2676a",
   "metadata": {},
   "outputs": [],
   "source": [
    "syntax : \n",
    "    keywrod :\n",
    "        def  \n",
    "    last is a ;\n",
    "    "
   ]
  },
  {
   "cell_type": "code",
   "execution_count": 6,
   "id": "8004bf01",
   "metadata": {},
   "outputs": [
    {
     "name": "stdout",
     "output_type": "stream",
     "text": [
      "good morning  siddu\n"
     ]
    }
   ],
   "source": [
    "def msg(name): # paramerter\n",
    "    print(\"good morning \",name)\n",
    "msg(\"siddu\") # Argument "
   ]
  },
  {
   "cell_type": "code",
   "execution_count": 7,
   "id": "af550b86",
   "metadata": {},
   "outputs": [
    {
     "name": "stdout",
     "output_type": "stream",
     "text": [
      "good morning  pash\n"
     ]
    }
   ],
   "source": [
    "msg(\"pash\")"
   ]
  },
  {
   "cell_type": "code",
   "execution_count": null,
   "id": "b67ed346",
   "metadata": {},
   "outputs": [],
   "source": [
    "two type function:\n",
    "    1)Built in function-------> already eg len(),max(),min(),print(),input()\n",
    "    2) user defined -----> create by  user eg prasad()"
   ]
  },
  {
   "cell_type": "code",
   "execution_count": null,
   "id": "1e7706de",
   "metadata": {},
   "outputs": [],
   "source": [
    "# using print\n",
    "def msg(name): # paramerter\n",
    "    print(\"good morning \",name)\n",
    "msg(\"siddu\") # Argument "
   ]
  },
  {
   "cell_type": "code",
   "execution_count": 9,
   "id": "54dd6c31",
   "metadata": {},
   "outputs": [
    {
     "name": "stdout",
     "output_type": "stream",
     "text": [
      "good morning  siddu\n",
      "good evening prasad\n"
     ]
    }
   ],
   "source": [
    "def msg(name1,name2): # paramerter\n",
    "    print(\"good morning \",name1)\n",
    "    print(\"good evening\",name2)\n",
    "msg(\"siddu\",\"prasad\") # Argument                      # by using return "
   ]
  },
  {
   "cell_type": "code",
   "execution_count": 13,
   "id": "23b0c43f",
   "metadata": {},
   "outputs": [
    {
     "data": {
      "text/plain": [
       "('good morning ', 'siddu', 'and', 'prasad')"
      ]
     },
     "execution_count": 13,
     "metadata": {},
     "output_type": "execute_result"
    }
   ],
   "source": [
    "def msg(name1,name2): # paramerter\n",
    "    return(\"good morning \",name1,\"and\",name2)\n",
    "\n",
    "msg(\"siddu\",\"prasad\") # Argument  retun go back "
   ]
  },
  {
   "cell_type": "code",
   "execution_count": 17,
   "id": "3d866e90",
   "metadata": {},
   "outputs": [
    {
     "data": {
      "text/plain": [
       "(102, -98, 200, 0.02)"
      ]
     },
     "execution_count": 17,
     "metadata": {},
     "output_type": "execute_result"
    }
   ],
   "source": [
    "def no(n):\n",
    "    return n+100,n-100,n*100,n/100\n",
    "no(2)"
   ]
  },
  {
   "cell_type": "code",
   "execution_count": null,
   "id": "d8866273",
   "metadata": {},
   "outputs": [],
   "source": [
    "Types of argument:\n",
    "    1) default arg\n",
    "    2) keywrod arg \n",
    "    3)Aribitary arg :\n",
    "        * kwarg  ----> tuple format ---> non keywrod arg \n",
    "        ** kwarg------> dict format ---> keywrod arg"
   ]
  },
  {
   "cell_type": "code",
   "execution_count": 19,
   "id": "9a9afea2",
   "metadata": {},
   "outputs": [
    {
     "data": {
      "text/plain": [
       "30"
      ]
     },
     "execution_count": 19,
     "metadata": {},
     "output_type": "execute_result"
    }
   ],
   "source": [
    "def no(n1=50,n2=25):\n",
    "    return n1+n2\n",
    "no(10,20)\n",
    "    "
   ]
  },
  {
   "cell_type": "code",
   "execution_count": 20,
   "id": "d157b219",
   "metadata": {},
   "outputs": [
    {
     "data": {
      "text/plain": [
       "75"
      ]
     },
     "execution_count": 20,
     "metadata": {},
     "output_type": "execute_result"
    }
   ],
   "source": [
    "def no(n1=50,n2=25):\n",
    "    return n1+n2\n",
    "no()"
   ]
  },
  {
   "cell_type": "code",
   "execution_count": 21,
   "id": "2882015e",
   "metadata": {},
   "outputs": [
    {
     "data": {
      "text/plain": [
       "30"
      ]
     },
     "execution_count": 21,
     "metadata": {},
     "output_type": "execute_result"
    }
   ],
   "source": [
    "def kw(n1,n2):\n",
    "    return n1+n2\n",
    "kw(10,20)"
   ]
  },
  {
   "cell_type": "code",
   "execution_count": 22,
   "id": "a2756975",
   "metadata": {},
   "outputs": [
    {
     "data": {
      "text/plain": [
       "30"
      ]
     },
     "execution_count": 22,
     "metadata": {},
     "output_type": "execute_result"
    }
   ],
   "source": [
    "def kw(n1,n2):\n",
    "    return n1+n2\n",
    "kw(n1=10,n2=20)"
   ]
  },
  {
   "cell_type": "code",
   "execution_count": 23,
   "id": "2148928a",
   "metadata": {},
   "outputs": [
    {
     "data": {
      "text/plain": [
       "('prasad', 'sid')"
      ]
     },
     "execution_count": 23,
     "metadata": {},
     "output_type": "execute_result"
    }
   ],
   "source": [
    "def ar(*name):\n",
    "    return name\n",
    "ar(\"prasad\",\"sid\")"
   ]
  },
  {
   "cell_type": "code",
   "execution_count": 42,
   "id": "12f7527a",
   "metadata": {},
   "outputs": [
    {
     "data": {
      "text/plain": [
       "{}"
      ]
     },
     "execution_count": 42,
     "metadata": {},
     "output_type": "execute_result"
    }
   ],
   "source": [
    "def ar(name,**name2):\n",
    "    return name2\n",
    "ar(\"akshay\")"
   ]
  },
  {
   "cell_type": "code",
   "execution_count": null,
   "id": "7952caf8",
   "metadata": {},
   "outputs": [],
   "source": [
    "function End "
   ]
  },
  {
   "cell_type": "code",
   "execution_count": null,
   "id": "303ca5b7",
   "metadata": {},
   "outputs": [],
   "source": [
    "function fibcoseries "
   ]
  },
  {
   "cell_type": "code",
   "execution_count": null,
   "id": "fca4f49f",
   "metadata": {},
   "outputs": [],
   "source": [
    "input 5\n",
    "output 0 1 1 2 3  \n",
    "       0+1+1+2=3"
   ]
  },
  {
   "cell_type": "code",
   "execution_count": 54,
   "id": "86828c28",
   "metadata": {},
   "outputs": [
    {
     "name": "stdout",
     "output_type": "stream",
     "text": [
      "Enter a number5\n",
      "0 1 1 2 3 "
     ]
    }
   ],
   "source": [
    "a=int(input(\"Enter a number\"))\n",
    "f=0\n",
    "s=1\n",
    "print(f,s,end=\" \")\n",
    "for i in range(2,a):\n",
    "    t=f+s\n",
    "    print(t,end=\" \")\n",
    "    f=s\n",
    "    s=t"
   ]
  },
  {
   "cell_type": "code",
   "execution_count": null,
   "id": "32111c5a",
   "metadata": {},
   "outputs": [],
   "source": []
  },
  {
   "cell_type": "markdown",
   "id": "0610bfbd",
   "metadata": {},
   "source": [
    "### recursion "
   ]
  },
  {
   "cell_type": "code",
   "execution_count": null,
   "id": "5a39b6f5",
   "metadata": {},
   "outputs": [],
   "source": [
    "recursion is itself call in one or more time "
   ]
  },
  {
   "cell_type": "code",
   "execution_count": null,
   "id": "1e44787b",
   "metadata": {},
   "outputs": [],
   "source": [
    "factrial:\n",
    "    "
   ]
  },
  {
   "cell_type": "code",
   "execution_count": 57,
   "id": "f8b93856",
   "metadata": {},
   "outputs": [
    {
     "data": {
      "text/plain": [
       "120"
      ]
     },
     "execution_count": 57,
     "metadata": {},
     "output_type": "execute_result"
    }
   ],
   "source": [
    "def fact(n):\n",
    "    if n==1:\n",
    "        return n\n",
    "    else:\n",
    "        return n*fact(n-1)\n",
    "fact(5)"
   ]
  },
  {
   "cell_type": "code",
   "execution_count": 61,
   "id": "87dda9bf",
   "metadata": {
    "scrolled": true
   },
   "outputs": [
    {
     "data": {
      "text/plain": [
       "120"
      ]
     },
     "execution_count": 61,
     "metadata": {},
     "output_type": "execute_result"
    }
   ],
   "source": [
    "5*4*3*2*1"
   ]
  },
  {
   "cell_type": "code",
   "execution_count": 60,
   "id": "ec5e44dd",
   "metadata": {},
   "outputs": [
    {
     "name": "stdout",
     "output_type": "stream",
     "text": [
      "Please enter any number to find factorial: 5\n"
     ]
    },
    {
     "data": {
      "text/plain": [
       "120"
      ]
     },
     "execution_count": 60,
     "metadata": {},
     "output_type": "execute_result"
    }
   ],
   "source": [
    "def factorial(num):#function definition\n",
    "    fact=1\n",
    "\n",
    "    for i in range(1, num+1):#for loop for finding factorial\n",
    "        fact=fact*i\n",
    "    return fact    #return factorial \n",
    "\n",
    "number=int(input(\"Please enter any number to find factorial: \"))\n",
    "\n",
    "factorial(number)"
   ]
  },
  {
   "cell_type": "code",
   "execution_count": 62,
   "id": "17273531",
   "metadata": {},
   "outputs": [],
   "source": [
    "li=[1,2,3,4,5]"
   ]
  },
  {
   "cell_type": "code",
   "execution_count": 65,
   "id": "7cd7f2f4",
   "metadata": {},
   "outputs": [
    {
     "data": {
      "text/plain": [
       "15"
      ]
     },
     "execution_count": 65,
     "metadata": {},
     "output_type": "execute_result"
    }
   ],
   "source": [
    "li=[1,2,3,4,5]\n",
    "def sm(li):\n",
    "    if len(li)==1:\n",
    "        return li[0]\n",
    "    else:\n",
    "        return li[0]+sm(li[1:])\n",
    "sm(li)\n",
    "    "
   ]
  },
  {
   "cell_type": "markdown",
   "id": "194bc7c8",
   "metadata": {},
   "source": [
    "### Lambda "
   ]
  },
  {
   "cell_type": "code",
   "execution_count": null,
   "id": "c2884644",
   "metadata": {},
   "outputs": [],
   "source": [
    "with out name function \n",
    "anonymus  fun \n",
    "lambda keyword use "
   ]
  },
  {
   "cell_type": "code",
   "execution_count": null,
   "id": "4ea25817",
   "metadata": {},
   "outputs": [],
   "source": [
    "syntax :\n",
    "    lambda argument:exp   \n",
    "            more than :  exp----> only one time "
   ]
  },
  {
   "cell_type": "code",
   "execution_count": 66,
   "id": "f2a9d6ae",
   "metadata": {},
   "outputs": [
    {
     "data": {
      "text/plain": [
       "6"
      ]
     },
     "execution_count": 66,
     "metadata": {},
     "output_type": "execute_result"
    }
   ],
   "source": [
    "def add(a,b):\n",
    "    return a+b\n",
    "add(5,1)\n",
    "    # normal fun "
   ]
  },
  {
   "cell_type": "code",
   "execution_count": 70,
   "id": "3cad6fcd",
   "metadata": {},
   "outputs": [],
   "source": [
    "df=lambda a,b:a+b"
   ]
  },
  {
   "cell_type": "code",
   "execution_count": 71,
   "id": "e7e1d930",
   "metadata": {},
   "outputs": [
    {
     "data": {
      "text/plain": [
       "22"
      ]
     },
     "execution_count": 71,
     "metadata": {},
     "output_type": "execute_result"
    }
   ],
   "source": [
    "df(10,12)"
   ]
  },
  {
   "cell_type": "code",
   "execution_count": 72,
   "id": "4c7fe48c",
   "metadata": {},
   "outputs": [],
   "source": [
    "a=lambda x:x*2"
   ]
  },
  {
   "cell_type": "code",
   "execution_count": 73,
   "id": "07783905",
   "metadata": {},
   "outputs": [
    {
     "data": {
      "text/plain": [
       "10"
      ]
     },
     "execution_count": 73,
     "metadata": {},
     "output_type": "execute_result"
    }
   ],
   "source": [
    "a(5)"
   ]
  },
  {
   "cell_type": "code",
   "execution_count": 74,
   "id": "abb0c34a",
   "metadata": {},
   "outputs": [],
   "source": [
    "b=lambda x:x**2"
   ]
  },
  {
   "cell_type": "code",
   "execution_count": 75,
   "id": "1eea7edd",
   "metadata": {},
   "outputs": [
    {
     "data": {
      "text/plain": [
       "100"
      ]
     },
     "execution_count": 75,
     "metadata": {},
     "output_type": "execute_result"
    }
   ],
   "source": [
    "b(10)"
   ]
  },
  {
   "cell_type": "code",
   "execution_count": null,
   "id": "e1406098",
   "metadata": {},
   "outputs": [],
   "source": [
    "filter :\n",
    "     condtion true --> filter if else same wrok "
   ]
  },
  {
   "cell_type": "code",
   "execution_count": null,
   "id": "b4da9dd0",
   "metadata": {},
   "outputs": [],
   "source": [
    "filter(function ,iterable )"
   ]
  },
  {
   "cell_type": "code",
   "execution_count": 80,
   "id": "67f23a39",
   "metadata": {},
   "outputs": [
    {
     "data": {
      "text/plain": [
       "[10, 20, 30, 50]"
      ]
     },
     "execution_count": 80,
     "metadata": {},
     "output_type": "execute_result"
    }
   ],
   "source": [
    "li=[10,20,25,30,35,45,50]\n",
    "list(filter(lambda x:x%2==0,li))"
   ]
  },
  {
   "cell_type": "code",
   "execution_count": 89,
   "id": "5792dc5e",
   "metadata": {},
   "outputs": [
    {
     "data": {
      "text/plain": [
       "[10, 20, 25, 30, 35, 45, 50]"
      ]
     },
     "execution_count": 89,
     "metadata": {},
     "output_type": "execute_result"
    }
   ],
   "source": [
    "li=[10,20,25,30,35,45,50,200,500,600]\n",
    "list(filter(lambda x:x%100,li))"
   ]
  },
  {
   "cell_type": "markdown",
   "id": "5f94cbc5",
   "metadata": {},
   "source": [
    "### Map"
   ]
  },
  {
   "cell_type": "code",
   "execution_count": null,
   "id": "137e500c",
   "metadata": {},
   "outputs": [],
   "source": [
    "map fun is a for loop iteration \n",
    "li=[10,20]\n",
    "syntax map(fun ,iteralble)\n"
   ]
  },
  {
   "cell_type": "code",
   "execution_count": 90,
   "id": "dc1cf1ae",
   "metadata": {},
   "outputs": [],
   "source": [
    "li=[1,4,5,6,4,7]"
   ]
  },
  {
   "cell_type": "code",
   "execution_count": 91,
   "id": "05ff1510",
   "metadata": {},
   "outputs": [
    {
     "data": {
      "text/plain": [
       "[1, 16, 25, 36, 16, 49]"
      ]
     },
     "execution_count": 91,
     "metadata": {},
     "output_type": "execute_result"
    }
   ],
   "source": [
    "list(map(lambda x:x**2,li))"
   ]
  },
  {
   "cell_type": "code",
   "execution_count": 96,
   "id": "b7ca3c9f",
   "metadata": {},
   "outputs": [],
   "source": [
    "a=lambda x:x**2"
   ]
  },
  {
   "cell_type": "code",
   "execution_count": 100,
   "id": "b999e39a",
   "metadata": {},
   "outputs": [
    {
     "ename": "TypeError",
     "evalue": "unsupported operand type(s) for ** or pow(): 'list' and 'int'",
     "output_type": "error",
     "traceback": [
      "\u001b[1;31m---------------------------------------------------------------------------\u001b[0m",
      "\u001b[1;31mTypeError\u001b[0m                                 Traceback (most recent call last)",
      "\u001b[1;32m~\\AppData\\Local\\Temp\\ipykernel_4460\\2159794844.py\u001b[0m in \u001b[0;36m<module>\u001b[1;34m\u001b[0m\n\u001b[1;32m----> 1\u001b[1;33m \u001b[0ma\u001b[0m\u001b[1;33m(\u001b[0m\u001b[1;33m[\u001b[0m\u001b[0mli\u001b[0m\u001b[1;33m]\u001b[0m\u001b[1;33m)\u001b[0m\u001b[1;33m\u001b[0m\u001b[1;33m\u001b[0m\u001b[0m\n\u001b[0m",
      "\u001b[1;32m~\\AppData\\Local\\Temp\\ipykernel_4460\\693662705.py\u001b[0m in \u001b[0;36m<lambda>\u001b[1;34m(x)\u001b[0m\n\u001b[1;32m----> 1\u001b[1;33m \u001b[0ma\u001b[0m\u001b[1;33m=\u001b[0m\u001b[1;32mlambda\u001b[0m \u001b[0mx\u001b[0m\u001b[1;33m:\u001b[0m\u001b[0mx\u001b[0m\u001b[1;33m**\u001b[0m\u001b[1;36m2\u001b[0m\u001b[1;33m\u001b[0m\u001b[1;33m\u001b[0m\u001b[0m\n\u001b[0m",
      "\u001b[1;31mTypeError\u001b[0m: unsupported operand type(s) for ** or pow(): 'list' and 'int'"
     ]
    }
   ],
   "source": [
    "a([li])"
   ]
  },
  {
   "cell_type": "code",
   "execution_count": 101,
   "id": "f284b8d6",
   "metadata": {},
   "outputs": [
    {
     "data": {
      "text/plain": [
       "[1, 4, 5, 6, 4, 7]"
      ]
     },
     "execution_count": 101,
     "metadata": {},
     "output_type": "execute_result"
    }
   ],
   "source": [
    "list(filter(lambda x:x**2,li))"
   ]
  },
  {
   "cell_type": "markdown",
   "id": "c89e61ae",
   "metadata": {},
   "source": [
    "### Reduces"
   ]
  },
  {
   "cell_type": "code",
   "execution_count": null,
   "id": "0e2fc799",
   "metadata": {},
   "outputs": [],
   "source": [
    "[1, 4, 5, 6, 4, 7] ----> not output \n",
    "one value in output eg ==20"
   ]
  },
  {
   "cell_type": "code",
   "execution_count": 4,
   "id": "033c64f2",
   "metadata": {},
   "outputs": [],
   "source": [
    "from functools import reduce"
   ]
  },
  {
   "cell_type": "code",
   "execution_count": 18,
   "id": "306104f1",
   "metadata": {},
   "outputs": [
    {
     "ename": "TypeError",
     "evalue": "'map' object is not callable",
     "output_type": "error",
     "traceback": [
      "\u001b[1;31m---------------------------------------------------------------------------\u001b[0m",
      "\u001b[1;31mTypeError\u001b[0m                                 Traceback (most recent call last)",
      "\u001b[1;32m~\\AppData\\Local\\Temp\\ipykernel_9364\\3003359604.py\u001b[0m in \u001b[0;36m<module>\u001b[1;34m\u001b[0m\n\u001b[0;32m      2\u001b[0m \u001b[0ma\u001b[0m\u001b[1;33m=\u001b[0m\u001b[0mmap\u001b[0m\u001b[1;33m(\u001b[0m\u001b[1;32mlambda\u001b[0m \u001b[0mx\u001b[0m\u001b[1;33m,\u001b[0m\u001b[0my\u001b[0m\u001b[1;33m:\u001b[0m\u001b[0mx\u001b[0m\u001b[1;33m+\u001b[0m\u001b[0my\u001b[0m\u001b[1;33m,\u001b[0m\u001b[0mli\u001b[0m\u001b[1;33m)\u001b[0m\u001b[1;33m\u001b[0m\u001b[1;33m\u001b[0m\u001b[0m\n\u001b[0;32m      3\u001b[0m \u001b[1;31m#a=reduce(lambda x,y:x*y,li)\u001b[0m\u001b[1;33m\u001b[0m\u001b[1;33m\u001b[0m\u001b[0m\n\u001b[1;32m----> 4\u001b[1;33m \u001b[0ma\u001b[0m\u001b[1;33m(\u001b[0m\u001b[0mli\u001b[0m\u001b[1;33m)\u001b[0m\u001b[1;33m\u001b[0m\u001b[1;33m\u001b[0m\u001b[0m\n\u001b[0m",
      "\u001b[1;31mTypeError\u001b[0m: 'map' object is not callable"
     ]
    }
   ],
   "source": [
    "li=[1, 4, 5, 6, 4, 7]\n",
    "a=(lambda x,y:x+y,li)\n",
    "#a=reduce(lambda x,y:x*y,li)\n",
    "a(li)"
   ]
  },
  {
   "cell_type": "code",
   "execution_count": null,
   "id": "d95b0aa9",
   "metadata": {},
   "outputs": [],
   "source": []
  },
  {
   "cell_type": "code",
   "execution_count": null,
   "id": "18a7aee8",
   "metadata": {},
   "outputs": [],
   "source": [
    "Gobal variable :\n",
    "  outside the fun (inside,outside )\n",
    "local variable :\n",
    "    inside the fun (inside )"
   ]
  },
  {
   "cell_type": "code",
   "execution_count": null,
   "id": "d84160ea",
   "metadata": {},
   "outputs": [],
   "source": []
  },
  {
   "cell_type": "code",
   "execution_count": 23,
   "id": "83d84edf",
   "metadata": {},
   "outputs": [
    {
     "name": "stdout",
     "output_type": "stream",
     "text": [
      "inside function\n",
      "100\n"
     ]
    }
   ],
   "source": [
    "def fun(n):\n",
    "    n=n+10#----------local \n",
    "    print(\"inside function\")\n",
    "n=100#---------> gobal \n",
    "fun(n)\n",
    "print(n)"
   ]
  },
  {
   "cell_type": "code",
   "execution_count": 26,
   "id": "d4445fb8",
   "metadata": {},
   "outputs": [
    {
     "name": "stdout",
     "output_type": "stream",
     "text": [
      "110\n"
     ]
    }
   ],
   "source": [
    "def fun(n):\n",
    "    x=n+10\n",
    "    print(x)\n",
    "n=100\n",
    "fun(n)\n",
    "#print(x)"
   ]
  },
  {
   "cell_type": "code",
   "execution_count": null,
   "id": "4693cac8",
   "metadata": {},
   "outputs": [],
   "source": [
    "---------------End -------------------------"
   ]
  },
  {
   "cell_type": "markdown",
   "id": "8dd8d0fd",
   "metadata": {},
   "source": [
    "### Model "
   ]
  },
  {
   "cell_type": "code",
   "execution_count": null,
   "id": "00d5f677",
   "metadata": {},
   "outputs": [],
   "source": [
    "collection in file or fun is called model "
   ]
  },
  {
   "cell_type": "code",
   "execution_count": 27,
   "id": "ecfd6e84",
   "metadata": {},
   "outputs": [],
   "source": [
    "import math"
   ]
  },
  {
   "cell_type": "code",
   "execution_count": null,
   "id": "894b4c59",
   "metadata": {},
   "outputs": [],
   "source": [
    "model>>packege>>lib>>framewrok "
   ]
  },
  {
   "cell_type": "code",
   "execution_count": null,
   "id": "c26e95cf",
   "metadata": {},
   "outputs": [],
   "source": [
    "package :\n",
    "    collection of model is called package "
   ]
  },
  {
   "cell_type": "code",
   "execution_count": null,
   "id": "37965289",
   "metadata": {},
   "outputs": [],
   "source": [
    "game:\n",
    "    sound:\n",
    "        load:\n",
    "            "
   ]
  },
  {
   "cell_type": "code",
   "execution_count": null,
   "id": "0301178f",
   "metadata": {},
   "outputs": [],
   "source": [
    "lib :\n",
    "    collection of package is called as a lib \n",
    "    eg numpy ,pandas ,seaborn ,matplot \n",
    "    "
   ]
  },
  {
   "cell_type": "code",
   "execution_count": null,
   "id": "6277ec58",
   "metadata": {},
   "outputs": [],
   "source": [
    "framwrok:\n",
    "    collection of lib is called as a framewrok :\n",
    "        1) django\n",
    "        2) Flask "
   ]
  },
  {
   "cell_type": "code",
   "execution_count": null,
   "id": "68916cfb",
   "metadata": {},
   "outputs": [],
   "source": [
    "------------------End------------------------"
   ]
  },
  {
   "cell_type": "code",
   "execution_count": null,
   "id": "a77d2038",
   "metadata": {},
   "outputs": [],
   "source": []
  }
 ],
 "metadata": {
  "kernelspec": {
   "display_name": "Python 3 (ipykernel)",
   "language": "python",
   "name": "python3"
  },
  "language_info": {
   "codemirror_mode": {
    "name": "ipython",
    "version": 3
   },
   "file_extension": ".py",
   "mimetype": "text/x-python",
   "name": "python",
   "nbconvert_exporter": "python",
   "pygments_lexer": "ipython3",
   "version": "3.9.13"
  }
 },
 "nbformat": 4,
 "nbformat_minor": 5
}
