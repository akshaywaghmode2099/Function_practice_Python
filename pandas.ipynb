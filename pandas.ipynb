{
 "cells": [
  {
   "cell_type": "code",
   "execution_count": 2,
   "id": "581e084b",
   "metadata": {},
   "outputs": [],
   "source": [
    "import pandas as pd\n"
   ]
  },
  {
   "cell_type": "code",
   "execution_count": null,
   "id": "f1aac840",
   "metadata": {},
   "outputs": [],
   "source": []
  },
  {
   "cell_type": "code",
   "execution_count": 6,
   "id": "4cdbd84e",
   "metadata": {},
   "outputs": [
    {
     "name": "stdout",
     "output_type": "stream",
     "text": [
      "Collecting pypdf2\n",
      "  Downloading pypdf2-3.0.0-py3-none-any.whl (232 kB)\n",
      "Requirement already satisfied: typing_extensions>=3.10.0.0 in c:\\users\\ddr\\anaconda3\\lib\\site-packages (from pypdf2) (4.1.1)\n",
      "Installing collected packages: pypdf2\n",
      "Successfully installed pypdf2-3.0.0\n",
      "Note: you may need to restart the kernel to use updated packages.\n"
     ]
    }
   ],
   "source": [
    "pip install pypdf2"
   ]
  },
  {
   "cell_type": "markdown",
   "id": "90aeb501",
   "metadata": {},
   "source": [
    "### empty series"
   ]
  },
  {
   "cell_type": "code",
   "execution_count": 13,
   "id": "315351e1",
   "metadata": {},
   "outputs": [],
   "source": [
    "import pandas as pd "
   ]
  },
  {
   "cell_type": "code",
   "execution_count": 14,
   "id": "c6d6f089",
   "metadata": {},
   "outputs": [
    {
     "name": "stdout",
     "output_type": "stream",
     "text": [
      "Series([], dtype: float64)\n",
      "<class 'pandas.core.series.Series'>\n"
     ]
    },
    {
     "name": "stderr",
     "output_type": "stream",
     "text": [
      "C:\\Users\\DDR\\AppData\\Local\\Temp\\ipykernel_12788\\2584896284.py:1: FutureWarning: The default dtype for empty Series will be 'object' instead of 'float64' in a future version. Specify a dtype explicitly to silence this warning.\n",
      "  a=pd.Series()\n"
     ]
    }
   ],
   "source": [
    "a=pd.Series()\n",
    "print(a)\n",
    "print(type(a))"
   ]
  },
  {
   "cell_type": "markdown",
   "id": "60560745",
   "metadata": {},
   "source": [
    "### series form list "
   ]
  },
  {
   "cell_type": "code",
   "execution_count": 15,
   "id": "2110a263",
   "metadata": {},
   "outputs": [],
   "source": [
    "a=pd.Series(['Akshay','Prasad','siddu'],index=[1,2,3],name='mock')"
   ]
  },
  {
   "cell_type": "code",
   "execution_count": 16,
   "id": "90217aa3",
   "metadata": {},
   "outputs": [
    {
     "name": "stdout",
     "output_type": "stream",
     "text": [
      "1    Akshay\n",
      "2    Prasad\n",
      "3     siddu\n",
      "Name: mock, dtype: object\n"
     ]
    }
   ],
   "source": [
    "print(a)"
   ]
  },
  {
   "cell_type": "code",
   "execution_count": null,
   "id": "22172319",
   "metadata": {},
   "outputs": [],
   "source": []
  },
  {
   "cell_type": "code",
   "execution_count": null,
   "id": "b181b1f8",
   "metadata": {},
   "outputs": [],
   "source": []
  },
  {
   "cell_type": "markdown",
   "id": "138f2c67",
   "metadata": {},
   "source": [
    "### pandas"
   ]
  },
  {
   "cell_type": "code",
   "execution_count": null,
   "id": "554fa0cb",
   "metadata": {},
   "outputs": [],
   "source": [
    "1 Series  # 1 dim \n",
    "2.DataFrame  # 2 dim \n",
    "3.Panel # multi \n"
   ]
  },
  {
   "cell_type": "markdown",
   "id": "4c06a28a",
   "metadata": {},
   "source": [
    "### series"
   ]
  },
  {
   "cell_type": "code",
   "execution_count": 2,
   "id": "62029752",
   "metadata": {},
   "outputs": [
    {
     "name": "stdout",
     "output_type": "stream",
     "text": [
      "Requirement already satisfied: pandas in c:\\users\\ddr\\anaconda3\\lib\\site-packages (1.4.2)Note: you may need to restart the kernel to use updated packages.\n",
      "Requirement already satisfied: python-dateutil>=2.8.1 in c:\\users\\ddr\\anaconda3\\lib\\site-packages (from pandas) (2.8.2)\n",
      "Requirement already satisfied: pytz>=2020.1 in c:\\users\\ddr\\anaconda3\\lib\\site-packages (from pandas) (2021.3)\n",
      "Requirement already satisfied: numpy>=1.18.5 in c:\\users\\ddr\\anaconda3\\lib\\site-packages (from pandas) (1.21.5)\n",
      "Requirement already satisfied: six>=1.5 in c:\\users\\ddr\\anaconda3\\lib\\site-packages (from python-dateutil>=2.8.1->pandas) (1.16.0)\n",
      "\n"
     ]
    }
   ],
   "source": [
    "pip install pandas"
   ]
  },
  {
   "cell_type": "code",
   "execution_count": 3,
   "id": "ba3f231a",
   "metadata": {},
   "outputs": [],
   "source": [
    "import pandas as pd \n"
   ]
  },
  {
   "cell_type": "code",
   "execution_count": 4,
   "id": "b3d003b0",
   "metadata": {},
   "outputs": [
    {
     "data": {
      "text/plain": [
       "'1.4.2'"
      ]
     },
     "execution_count": 4,
     "metadata": {},
     "output_type": "execute_result"
    }
   ],
   "source": [
    "pd.__version__"
   ]
  },
  {
   "cell_type": "code",
   "execution_count": 5,
   "id": "a7c4bf95",
   "metadata": {},
   "outputs": [],
   "source": [
    "import numpy as np"
   ]
  },
  {
   "cell_type": "code",
   "execution_count": 6,
   "id": "0d57e71d",
   "metadata": {},
   "outputs": [
    {
     "data": {
      "text/plain": [
       "'1.21.5'"
      ]
     },
     "execution_count": 6,
     "metadata": {},
     "output_type": "execute_result"
    }
   ],
   "source": [
    "np.__version__"
   ]
  },
  {
   "cell_type": "markdown",
   "id": "c6608cb9",
   "metadata": {},
   "source": [
    "### empty series"
   ]
  },
  {
   "cell_type": "code",
   "execution_count": 7,
   "id": "bad04a66",
   "metadata": {},
   "outputs": [],
   "source": [
    "import pandas as pd"
   ]
  },
  {
   "cell_type": "code",
   "execution_count": 8,
   "id": "7e494dde",
   "metadata": {},
   "outputs": [
    {
     "name": "stdout",
     "output_type": "stream",
     "text": [
      "Series([], dtype: float64)\n"
     ]
    },
    {
     "name": "stderr",
     "output_type": "stream",
     "text": [
      "C:\\Users\\DDR\\AppData\\Local\\Temp\\ipykernel_12060\\374528593.py:1: FutureWarning: The default dtype for empty Series will be 'object' instead of 'float64' in a future version. Specify a dtype explicitly to silence this warning.\n",
      "  a=pd.Series()\n"
     ]
    }
   ],
   "source": [
    "a=pd.Series()\n",
    "print(a)"
   ]
  },
  {
   "cell_type": "markdown",
   "id": "00902ec0",
   "metadata": {},
   "source": [
    "### list"
   ]
  },
  {
   "cell_type": "code",
   "execution_count": 11,
   "id": "d80054a4",
   "metadata": {},
   "outputs": [
    {
     "name": "stdout",
     "output_type": "stream",
     "text": [
      "1    10\n",
      "2    20\n",
      "3    30\n",
      "Name: mock, dtype: int64\n"
     ]
    }
   ],
   "source": [
    "a=pd.Series([10,20,30],index=[1,2,3],name=\"mock\")\n",
    "print(a)"
   ]
  },
  {
   "cell_type": "code",
   "execution_count": 12,
   "id": "dfc35482",
   "metadata": {},
   "outputs": [],
   "source": [
    "a=pd.Series([10,20,30],name=\"mock\")"
   ]
  },
  {
   "cell_type": "code",
   "execution_count": 13,
   "id": "fa6c3597",
   "metadata": {},
   "outputs": [
    {
     "name": "stdout",
     "output_type": "stream",
     "text": [
      "0    10\n",
      "1    20\n",
      "2    30\n",
      "Name: mock, dtype: int64\n"
     ]
    }
   ],
   "source": [
    "print(a)"
   ]
  },
  {
   "cell_type": "code",
   "execution_count": 14,
   "id": "90258f51",
   "metadata": {},
   "outputs": [],
   "source": [
    "import numpy as np"
   ]
  },
  {
   "cell_type": "code",
   "execution_count": 15,
   "id": "b31521a6",
   "metadata": {},
   "outputs": [
    {
     "data": {
      "text/plain": [
       "array(['a', 'b', 'c'], dtype='<U1')"
      ]
     },
     "execution_count": 15,
     "metadata": {},
     "output_type": "execute_result"
    }
   ],
   "source": [
    "a=np.array(['a','b','c'])\n",
    "a"
   ]
  },
  {
   "cell_type": "code",
   "execution_count": 17,
   "id": "8a897be4",
   "metadata": {},
   "outputs": [
    {
     "name": "stdout",
     "output_type": "stream",
     "text": [
      "0    a\n",
      "1    b\n",
      "2    c\n",
      "dtype: object\n"
     ]
    }
   ],
   "source": [
    "a=pd.Series(a)\n",
    "print(a)"
   ]
  },
  {
   "cell_type": "markdown",
   "id": "2b8dcade",
   "metadata": {},
   "source": [
    "### tuple"
   ]
  },
  {
   "cell_type": "code",
   "execution_count": 18,
   "id": "414559d5",
   "metadata": {},
   "outputs": [],
   "source": [
    "p1=pd.Series((1,2,3,4,5))"
   ]
  },
  {
   "cell_type": "code",
   "execution_count": 19,
   "id": "09de5f2b",
   "metadata": {},
   "outputs": [
    {
     "data": {
      "text/plain": [
       "0    1\n",
       "1    2\n",
       "2    3\n",
       "3    4\n",
       "4    5\n",
       "dtype: int64"
      ]
     },
     "execution_count": 19,
     "metadata": {},
     "output_type": "execute_result"
    }
   ],
   "source": [
    "p1"
   ]
  },
  {
   "cell_type": "markdown",
   "id": "8011aa10",
   "metadata": {},
   "source": [
    "### Dict"
   ]
  },
  {
   "cell_type": "code",
   "execution_count": 20,
   "id": "46fa2635",
   "metadata": {},
   "outputs": [],
   "source": [
    "a=pd.Series({\"name\":\"akshay\",\"Marks\":15})"
   ]
  },
  {
   "cell_type": "code",
   "execution_count": 21,
   "id": "d19473e5",
   "metadata": {},
   "outputs": [
    {
     "data": {
      "text/plain": [
       "name     akshay\n",
       "Marks        15\n",
       "dtype: object"
      ]
     },
     "execution_count": 21,
     "metadata": {},
     "output_type": "execute_result"
    }
   ],
   "source": [
    "a"
   ]
  },
  {
   "cell_type": "markdown",
   "id": "a3aaf0a6",
   "metadata": {},
   "source": [
    "### Attribute"
   ]
  },
  {
   "cell_type": "markdown",
   "id": "301915da",
   "metadata": {},
   "source": [
    "### Index"
   ]
  },
  {
   "cell_type": "code",
   "execution_count": 22,
   "id": "899d9131",
   "metadata": {},
   "outputs": [
    {
     "data": {
      "text/plain": [
       "0    10\n",
       "1    20\n",
       "2    30\n",
       "3    40\n",
       "4    50\n",
       "dtype: int64"
      ]
     },
     "execution_count": 22,
     "metadata": {},
     "output_type": "execute_result"
    }
   ],
   "source": [
    "a=pd.Series([10,20,30,40,50])\n",
    "a.index\n",
    "a"
   ]
  },
  {
   "cell_type": "markdown",
   "id": "8599e04c",
   "metadata": {},
   "source": [
    "### Array"
   ]
  },
  {
   "cell_type": "code",
   "execution_count": 24,
   "id": "47e832f9",
   "metadata": {},
   "outputs": [
    {
     "data": {
      "text/plain": [
       "<PandasArray>\n",
       "[10, 20, 30, 40, 50]\n",
       "Length: 5, dtype: int64"
      ]
     },
     "execution_count": 24,
     "metadata": {},
     "output_type": "execute_result"
    }
   ],
   "source": [
    "a=pd.Series([10,20,30,40,50])\n",
    "a.array\n"
   ]
  },
  {
   "cell_type": "markdown",
   "id": "d9c23a85",
   "metadata": {},
   "source": [
    "### value"
   ]
  },
  {
   "cell_type": "code",
   "execution_count": 28,
   "id": "3a4da14d",
   "metadata": {},
   "outputs": [
    {
     "data": {
      "text/plain": [
       "array([10, 20, 30, 40, 50], dtype=int64)"
      ]
     },
     "execution_count": 28,
     "metadata": {},
     "output_type": "execute_result"
    }
   ],
   "source": [
    "a=pd.Series([10,20,30,40,50])\n",
    "a.values\n"
   ]
  },
  {
   "cell_type": "markdown",
   "id": "f9ac904e",
   "metadata": {},
   "source": [
    "### Name"
   ]
  },
  {
   "cell_type": "code",
   "execution_count": 31,
   "id": "4dcb8c2a",
   "metadata": {},
   "outputs": [
    {
     "data": {
      "text/plain": [
       "'mock'"
      ]
     },
     "execution_count": 31,
     "metadata": {},
     "output_type": "execute_result"
    }
   ],
   "source": [
    "a=pd.Series({\"name\":\"akshay\",\"Marks\":15},name=\"mock\")\n",
    "a.name"
   ]
  },
  {
   "cell_type": "markdown",
   "id": "a966b360",
   "metadata": {},
   "source": [
    "### Shape"
   ]
  },
  {
   "cell_type": "code",
   "execution_count": 40,
   "id": "6f104f34",
   "metadata": {},
   "outputs": [
    {
     "data": {
      "text/plain": [
       "(4,)"
      ]
     },
     "execution_count": 40,
     "metadata": {},
     "output_type": "execute_result"
    }
   ],
   "source": [
    "a=pd.Series([10,20,30,40],name=\"mock\")\n",
    "a.shape"
   ]
  },
  {
   "cell_type": "markdown",
   "id": "0c664421",
   "metadata": {},
   "source": [
    "### Math"
   ]
  },
  {
   "cell_type": "code",
   "execution_count": 44,
   "id": "8571189e",
   "metadata": {},
   "outputs": [
    {
     "data": {
      "text/plain": [
       "0    10\n",
       "1    20\n",
       "2    30\n",
       "dtype: int64"
      ]
     },
     "execution_count": 44,
     "metadata": {},
     "output_type": "execute_result"
    }
   ],
   "source": [
    "s1=pd.Series([10,20,30])\n",
    "s1\n",
    "\n"
   ]
  },
  {
   "cell_type": "code",
   "execution_count": 45,
   "id": "6f71973f",
   "metadata": {},
   "outputs": [
    {
     "data": {
      "text/plain": [
       "0    40\n",
       "1    50\n",
       "2    60\n",
       "dtype: int64"
      ]
     },
     "execution_count": 45,
     "metadata": {},
     "output_type": "execute_result"
    }
   ],
   "source": [
    "s2=pd.Series([40,50,60])\n",
    "s2"
   ]
  },
  {
   "cell_type": "code",
   "execution_count": 46,
   "id": "056591cb",
   "metadata": {},
   "outputs": [
    {
     "data": {
      "text/plain": [
       "0    50\n",
       "1    70\n",
       "2    90\n",
       "dtype: int64"
      ]
     },
     "execution_count": 46,
     "metadata": {},
     "output_type": "execute_result"
    }
   ],
   "source": [
    "s1+s2"
   ]
  },
  {
   "cell_type": "code",
   "execution_count": 47,
   "id": "b7b7fa70",
   "metadata": {},
   "outputs": [
    {
     "data": {
      "text/plain": [
       "0    50\n",
       "1    70\n",
       "2    90\n",
       "dtype: int64"
      ]
     },
     "execution_count": 47,
     "metadata": {},
     "output_type": "execute_result"
    }
   ],
   "source": [
    "s1.add(s2)"
   ]
  },
  {
   "cell_type": "code",
   "execution_count": 52,
   "id": "999c34c0",
   "metadata": {},
   "outputs": [
    {
     "data": {
      "text/plain": [
       "0    30\n",
       "1    30\n",
       "2    30\n",
       "dtype: int64"
      ]
     },
     "execution_count": 52,
     "metadata": {},
     "output_type": "execute_result"
    }
   ],
   "source": [
    "s2-s1"
   ]
  },
  {
   "cell_type": "code",
   "execution_count": 50,
   "id": "79d46ecc",
   "metadata": {},
   "outputs": [
    {
     "data": {
      "text/plain": [
       "0    30\n",
       "1    30\n",
       "2    30\n",
       "dtype: int64"
      ]
     },
     "execution_count": 50,
     "metadata": {},
     "output_type": "execute_result"
    }
   ],
   "source": [
    "s2.subtract(s1)"
   ]
  },
  {
   "cell_type": "code",
   "execution_count": 51,
   "id": "7513943d",
   "metadata": {},
   "outputs": [
    {
     "data": {
      "text/plain": [
       "0     400\n",
       "1    1000\n",
       "2    1800\n",
       "dtype: int64"
      ]
     },
     "execution_count": 51,
     "metadata": {},
     "output_type": "execute_result"
    }
   ],
   "source": [
    "s1*s2"
   ]
  },
  {
   "cell_type": "code",
   "execution_count": 53,
   "id": "ea0e9024",
   "metadata": {},
   "outputs": [
    {
     "data": {
      "text/plain": [
       "0     0\n",
       "1    10\n",
       "2     0\n",
       "dtype: int64"
      ]
     },
     "execution_count": 53,
     "metadata": {},
     "output_type": "execute_result"
    }
   ],
   "source": [
    "s2.mod(s1)"
   ]
  },
  {
   "cell_type": "code",
   "execution_count": 54,
   "id": "042c2d57",
   "metadata": {},
   "outputs": [
    {
     "data": {
      "text/plain": [
       "0      10485760000000000\n",
       "1    5474894590040342528\n",
       "2    1152921504606846976\n",
       "dtype: int64"
      ]
     },
     "execution_count": 54,
     "metadata": {},
     "output_type": "execute_result"
    }
   ],
   "source": [
    "s2.pow(s1)"
   ]
  },
  {
   "cell_type": "code",
   "execution_count": 55,
   "id": "5c3fdde1",
   "metadata": {},
   "outputs": [
    {
     "data": {
      "text/plain": [
       "0    True\n",
       "1    True\n",
       "2    True\n",
       "dtype: bool"
      ]
     },
     "execution_count": 55,
     "metadata": {},
     "output_type": "execute_result"
    }
   ],
   "source": [
    "s1.le(s2)"
   ]
  },
  {
   "cell_type": "code",
   "execution_count": 57,
   "id": "e7cef60e",
   "metadata": {},
   "outputs": [
    {
     "data": {
      "text/plain": [
       "0    0\n",
       "1    0\n",
       "2    0\n",
       "dtype: int64"
      ]
     },
     "execution_count": 57,
     "metadata": {},
     "output_type": "execute_result"
    }
   ],
   "source": [
    "s1.floordiv(s2)"
   ]
  },
  {
   "cell_type": "code",
   "execution_count": null,
   "id": "1b43e9fd",
   "metadata": {},
   "outputs": [],
   "source": []
  },
  {
   "cell_type": "code",
   "execution_count": 1,
   "id": "b6e9d2ef",
   "metadata": {},
   "outputs": [],
   "source": [
    "import pandas as pd "
   ]
  },
  {
   "cell_type": "code",
   "execution_count": 2,
   "id": "2aecd574",
   "metadata": {},
   "outputs": [],
   "source": [
    "import numpy as np"
   ]
  },
  {
   "cell_type": "code",
   "execution_count": 3,
   "id": "52132d9f",
   "metadata": {},
   "outputs": [],
   "source": [
    "path=r\"C:\\Users\\DDR\\Desktop\\python velocity\\CSV/IPL.csv\""
   ]
  },
  {
   "cell_type": "code",
   "execution_count": 5,
   "id": "7f819f25",
   "metadata": {},
   "outputs": [
    {
     "data": {
      "text/html": [
       "<div>\n",
       "<style scoped>\n",
       "    .dataframe tbody tr th:only-of-type {\n",
       "        vertical-align: middle;\n",
       "    }\n",
       "\n",
       "    .dataframe tbody tr th {\n",
       "        vertical-align: top;\n",
       "    }\n",
       "\n",
       "    .dataframe thead th {\n",
       "        text-align: right;\n",
       "    }\n",
       "</style>\n",
       "<table border=\"1\" class=\"dataframe\">\n",
       "  <thead>\n",
       "    <tr style=\"text-align: right;\">\n",
       "      <th></th>\n",
       "      <th>id</th>\n",
       "      <th>season</th>\n",
       "      <th>city</th>\n",
       "      <th>date</th>\n",
       "      <th>team1</th>\n",
       "      <th>team2</th>\n",
       "      <th>toss_winner</th>\n",
       "      <th>toss_decision</th>\n",
       "      <th>result</th>\n",
       "      <th>dl_applied</th>\n",
       "      <th>winner</th>\n",
       "      <th>win_by_runs</th>\n",
       "      <th>win_by_wickets</th>\n",
       "      <th>player_of_match</th>\n",
       "      <th>venue</th>\n",
       "      <th>umpire1</th>\n",
       "      <th>umpire2</th>\n",
       "      <th>umpire3</th>\n",
       "    </tr>\n",
       "  </thead>\n",
       "  <tbody>\n",
       "    <tr>\n",
       "      <th>0</th>\n",
       "      <td>1</td>\n",
       "      <td>2017</td>\n",
       "      <td>Hyderabad</td>\n",
       "      <td>2017-04-05</td>\n",
       "      <td>Sunrisers Hyderabad</td>\n",
       "      <td>Royal Challengers Bangalore</td>\n",
       "      <td>Royal Challengers Bangalore</td>\n",
       "      <td>field</td>\n",
       "      <td>normal</td>\n",
       "      <td>0</td>\n",
       "      <td>Sunrisers Hyderabad</td>\n",
       "      <td>35</td>\n",
       "      <td>0</td>\n",
       "      <td>Yuvraj Singh</td>\n",
       "      <td>Rajiv Gandhi International Stadium, Uppal</td>\n",
       "      <td>AY Dandekar</td>\n",
       "      <td>NJ Llong</td>\n",
       "      <td>NaN</td>\n",
       "    </tr>\n",
       "    <tr>\n",
       "      <th>1</th>\n",
       "      <td>2</td>\n",
       "      <td>2017</td>\n",
       "      <td>Pune</td>\n",
       "      <td>2017-04-06</td>\n",
       "      <td>Mumbai Indians</td>\n",
       "      <td>Rising Pune Supergiant</td>\n",
       "      <td>Rising Pune Supergiant</td>\n",
       "      <td>field</td>\n",
       "      <td>normal</td>\n",
       "      <td>0</td>\n",
       "      <td>Rising Pune Supergiant</td>\n",
       "      <td>0</td>\n",
       "      <td>7</td>\n",
       "      <td>SPD Smith</td>\n",
       "      <td>Maharashtra Cricket Association Stadium</td>\n",
       "      <td>A Nand Kishore</td>\n",
       "      <td>S Ravi</td>\n",
       "      <td>NaN</td>\n",
       "    </tr>\n",
       "    <tr>\n",
       "      <th>2</th>\n",
       "      <td>3</td>\n",
       "      <td>2017</td>\n",
       "      <td>Rajkot</td>\n",
       "      <td>2017-04-07</td>\n",
       "      <td>Gujarat Lions</td>\n",
       "      <td>Kolkata Knight Riders</td>\n",
       "      <td>Kolkata Knight Riders</td>\n",
       "      <td>field</td>\n",
       "      <td>normal</td>\n",
       "      <td>0</td>\n",
       "      <td>Kolkata Knight Riders</td>\n",
       "      <td>0</td>\n",
       "      <td>10</td>\n",
       "      <td>CA Lynn</td>\n",
       "      <td>Saurashtra Cricket Association Stadium</td>\n",
       "      <td>Nitin Menon</td>\n",
       "      <td>CK Nandan</td>\n",
       "      <td>NaN</td>\n",
       "    </tr>\n",
       "    <tr>\n",
       "      <th>3</th>\n",
       "      <td>4</td>\n",
       "      <td>2017</td>\n",
       "      <td>Indore</td>\n",
       "      <td>2017-04-08</td>\n",
       "      <td>Rising Pune Supergiant</td>\n",
       "      <td>Kings XI Punjab</td>\n",
       "      <td>Kings XI Punjab</td>\n",
       "      <td>field</td>\n",
       "      <td>normal</td>\n",
       "      <td>0</td>\n",
       "      <td>Kings XI Punjab</td>\n",
       "      <td>0</td>\n",
       "      <td>6</td>\n",
       "      <td>GJ Maxwell</td>\n",
       "      <td>Holkar Cricket Stadium</td>\n",
       "      <td>AK Chaudhary</td>\n",
       "      <td>C Shamshuddin</td>\n",
       "      <td>NaN</td>\n",
       "    </tr>\n",
       "    <tr>\n",
       "      <th>4</th>\n",
       "      <td>5</td>\n",
       "      <td>2017</td>\n",
       "      <td>Bangalore</td>\n",
       "      <td>2017-04-08</td>\n",
       "      <td>Royal Challengers Bangalore</td>\n",
       "      <td>Delhi Daredevils</td>\n",
       "      <td>Royal Challengers Bangalore</td>\n",
       "      <td>bat</td>\n",
       "      <td>normal</td>\n",
       "      <td>0</td>\n",
       "      <td>Royal Challengers Bangalore</td>\n",
       "      <td>15</td>\n",
       "      <td>0</td>\n",
       "      <td>KM Jadhav</td>\n",
       "      <td>M Chinnaswamy Stadium</td>\n",
       "      <td>NaN</td>\n",
       "      <td>NaN</td>\n",
       "      <td>NaN</td>\n",
       "    </tr>\n",
       "    <tr>\n",
       "      <th>...</th>\n",
       "      <td>...</td>\n",
       "      <td>...</td>\n",
       "      <td>...</td>\n",
       "      <td>...</td>\n",
       "      <td>...</td>\n",
       "      <td>...</td>\n",
       "      <td>...</td>\n",
       "      <td>...</td>\n",
       "      <td>...</td>\n",
       "      <td>...</td>\n",
       "      <td>...</td>\n",
       "      <td>...</td>\n",
       "      <td>...</td>\n",
       "      <td>...</td>\n",
       "      <td>...</td>\n",
       "      <td>...</td>\n",
       "      <td>...</td>\n",
       "      <td>...</td>\n",
       "    </tr>\n",
       "    <tr>\n",
       "      <th>631</th>\n",
       "      <td>632</td>\n",
       "      <td>2016</td>\n",
       "      <td>Raipur</td>\n",
       "      <td>2016-05-22</td>\n",
       "      <td>Delhi Daredevils</td>\n",
       "      <td>Royal Challengers Bangalore</td>\n",
       "      <td>Royal Challengers Bangalore</td>\n",
       "      <td>field</td>\n",
       "      <td>normal</td>\n",
       "      <td>0</td>\n",
       "      <td>Royal Challengers Bangalore</td>\n",
       "      <td>0</td>\n",
       "      <td>6</td>\n",
       "      <td>V Kohli</td>\n",
       "      <td>Shaheed Veer Narayan Singh International Stadium</td>\n",
       "      <td>A Nand Kishore</td>\n",
       "      <td>BNJ Oxenford</td>\n",
       "      <td>NaN</td>\n",
       "    </tr>\n",
       "    <tr>\n",
       "      <th>632</th>\n",
       "      <td>633</td>\n",
       "      <td>2016</td>\n",
       "      <td>Bangalore</td>\n",
       "      <td>2016-05-24</td>\n",
       "      <td>Gujarat Lions</td>\n",
       "      <td>Royal Challengers Bangalore</td>\n",
       "      <td>Royal Challengers Bangalore</td>\n",
       "      <td>field</td>\n",
       "      <td>normal</td>\n",
       "      <td>0</td>\n",
       "      <td>Royal Challengers Bangalore</td>\n",
       "      <td>0</td>\n",
       "      <td>4</td>\n",
       "      <td>AB de Villiers</td>\n",
       "      <td>M Chinnaswamy Stadium</td>\n",
       "      <td>AK Chaudhary</td>\n",
       "      <td>HDPK Dharmasena</td>\n",
       "      <td>NaN</td>\n",
       "    </tr>\n",
       "    <tr>\n",
       "      <th>633</th>\n",
       "      <td>634</td>\n",
       "      <td>2016</td>\n",
       "      <td>Delhi</td>\n",
       "      <td>2016-05-25</td>\n",
       "      <td>Sunrisers Hyderabad</td>\n",
       "      <td>Kolkata Knight Riders</td>\n",
       "      <td>Kolkata Knight Riders</td>\n",
       "      <td>field</td>\n",
       "      <td>normal</td>\n",
       "      <td>0</td>\n",
       "      <td>Sunrisers Hyderabad</td>\n",
       "      <td>22</td>\n",
       "      <td>0</td>\n",
       "      <td>MC Henriques</td>\n",
       "      <td>Feroz Shah Kotla</td>\n",
       "      <td>M Erasmus</td>\n",
       "      <td>C Shamshuddin</td>\n",
       "      <td>NaN</td>\n",
       "    </tr>\n",
       "    <tr>\n",
       "      <th>634</th>\n",
       "      <td>635</td>\n",
       "      <td>2016</td>\n",
       "      <td>Delhi</td>\n",
       "      <td>2016-05-27</td>\n",
       "      <td>Gujarat Lions</td>\n",
       "      <td>Sunrisers Hyderabad</td>\n",
       "      <td>Sunrisers Hyderabad</td>\n",
       "      <td>field</td>\n",
       "      <td>normal</td>\n",
       "      <td>0</td>\n",
       "      <td>Sunrisers Hyderabad</td>\n",
       "      <td>0</td>\n",
       "      <td>4</td>\n",
       "      <td>DA Warner</td>\n",
       "      <td>Feroz Shah Kotla</td>\n",
       "      <td>M Erasmus</td>\n",
       "      <td>CK Nandan</td>\n",
       "      <td>NaN</td>\n",
       "    </tr>\n",
       "    <tr>\n",
       "      <th>635</th>\n",
       "      <td>636</td>\n",
       "      <td>2016</td>\n",
       "      <td>Bangalore</td>\n",
       "      <td>2016-05-29</td>\n",
       "      <td>Sunrisers Hyderabad</td>\n",
       "      <td>Royal Challengers Bangalore</td>\n",
       "      <td>Sunrisers Hyderabad</td>\n",
       "      <td>bat</td>\n",
       "      <td>normal</td>\n",
       "      <td>0</td>\n",
       "      <td>Sunrisers Hyderabad</td>\n",
       "      <td>8</td>\n",
       "      <td>0</td>\n",
       "      <td>BCJ Cutting</td>\n",
       "      <td>M Chinnaswamy Stadium</td>\n",
       "      <td>HDPK Dharmasena</td>\n",
       "      <td>BNJ Oxenford</td>\n",
       "      <td>NaN</td>\n",
       "    </tr>\n",
       "  </tbody>\n",
       "</table>\n",
       "<p>636 rows × 18 columns</p>\n",
       "</div>"
      ],
      "text/plain": [
       "      id  season       city        date                        team1  \\\n",
       "0      1    2017  Hyderabad  2017-04-05          Sunrisers Hyderabad   \n",
       "1      2    2017       Pune  2017-04-06               Mumbai Indians   \n",
       "2      3    2017     Rajkot  2017-04-07                Gujarat Lions   \n",
       "3      4    2017     Indore  2017-04-08       Rising Pune Supergiant   \n",
       "4      5    2017  Bangalore  2017-04-08  Royal Challengers Bangalore   \n",
       "..   ...     ...        ...         ...                          ...   \n",
       "631  632    2016     Raipur  2016-05-22             Delhi Daredevils   \n",
       "632  633    2016  Bangalore  2016-05-24                Gujarat Lions   \n",
       "633  634    2016      Delhi  2016-05-25          Sunrisers Hyderabad   \n",
       "634  635    2016      Delhi  2016-05-27                Gujarat Lions   \n",
       "635  636    2016  Bangalore  2016-05-29          Sunrisers Hyderabad   \n",
       "\n",
       "                           team2                  toss_winner toss_decision  \\\n",
       "0    Royal Challengers Bangalore  Royal Challengers Bangalore         field   \n",
       "1         Rising Pune Supergiant       Rising Pune Supergiant         field   \n",
       "2          Kolkata Knight Riders        Kolkata Knight Riders         field   \n",
       "3                Kings XI Punjab              Kings XI Punjab         field   \n",
       "4               Delhi Daredevils  Royal Challengers Bangalore           bat   \n",
       "..                           ...                          ...           ...   \n",
       "631  Royal Challengers Bangalore  Royal Challengers Bangalore         field   \n",
       "632  Royal Challengers Bangalore  Royal Challengers Bangalore         field   \n",
       "633        Kolkata Knight Riders        Kolkata Knight Riders         field   \n",
       "634          Sunrisers Hyderabad          Sunrisers Hyderabad         field   \n",
       "635  Royal Challengers Bangalore          Sunrisers Hyderabad           bat   \n",
       "\n",
       "     result  dl_applied                       winner  win_by_runs  \\\n",
       "0    normal           0          Sunrisers Hyderabad           35   \n",
       "1    normal           0       Rising Pune Supergiant            0   \n",
       "2    normal           0        Kolkata Knight Riders            0   \n",
       "3    normal           0              Kings XI Punjab            0   \n",
       "4    normal           0  Royal Challengers Bangalore           15   \n",
       "..      ...         ...                          ...          ...   \n",
       "631  normal           0  Royal Challengers Bangalore            0   \n",
       "632  normal           0  Royal Challengers Bangalore            0   \n",
       "633  normal           0          Sunrisers Hyderabad           22   \n",
       "634  normal           0          Sunrisers Hyderabad            0   \n",
       "635  normal           0          Sunrisers Hyderabad            8   \n",
       "\n",
       "     win_by_wickets player_of_match  \\\n",
       "0                 0    Yuvraj Singh   \n",
       "1                 7       SPD Smith   \n",
       "2                10         CA Lynn   \n",
       "3                 6      GJ Maxwell   \n",
       "4                 0       KM Jadhav   \n",
       "..              ...             ...   \n",
       "631               6         V Kohli   \n",
       "632               4  AB de Villiers   \n",
       "633               0    MC Henriques   \n",
       "634               4       DA Warner   \n",
       "635               0     BCJ Cutting   \n",
       "\n",
       "                                                venue          umpire1  \\\n",
       "0           Rajiv Gandhi International Stadium, Uppal      AY Dandekar   \n",
       "1             Maharashtra Cricket Association Stadium   A Nand Kishore   \n",
       "2              Saurashtra Cricket Association Stadium      Nitin Menon   \n",
       "3                              Holkar Cricket Stadium     AK Chaudhary   \n",
       "4                               M Chinnaswamy Stadium              NaN   \n",
       "..                                                ...              ...   \n",
       "631  Shaheed Veer Narayan Singh International Stadium   A Nand Kishore   \n",
       "632                             M Chinnaswamy Stadium     AK Chaudhary   \n",
       "633                                  Feroz Shah Kotla        M Erasmus   \n",
       "634                                  Feroz Shah Kotla        M Erasmus   \n",
       "635                             M Chinnaswamy Stadium  HDPK Dharmasena   \n",
       "\n",
       "             umpire2  umpire3  \n",
       "0           NJ Llong      NaN  \n",
       "1             S Ravi      NaN  \n",
       "2          CK Nandan      NaN  \n",
       "3      C Shamshuddin      NaN  \n",
       "4                NaN      NaN  \n",
       "..               ...      ...  \n",
       "631     BNJ Oxenford      NaN  \n",
       "632  HDPK Dharmasena      NaN  \n",
       "633    C Shamshuddin      NaN  \n",
       "634        CK Nandan      NaN  \n",
       "635     BNJ Oxenford      NaN  \n",
       "\n",
       "[636 rows x 18 columns]"
      ]
     },
     "execution_count": 5,
     "metadata": {},
     "output_type": "execute_result"
    }
   ],
   "source": [
    "df=pd.read_csv(path)\n",
    "df"
   ]
  },
  {
   "cell_type": "code",
   "execution_count": 6,
   "id": "abcd0e49",
   "metadata": {},
   "outputs": [
    {
     "ename": "AttributeError",
     "evalue": "'function' object has no attribute 'max_rows'",
     "output_type": "error",
     "traceback": [
      "\u001b[1;31m---------------------------------------------------------------------------\u001b[0m",
      "\u001b[1;31mAttributeError\u001b[0m                            Traceback (most recent call last)",
      "Input \u001b[1;32mIn [6]\u001b[0m, in \u001b[0;36m<cell line: 1>\u001b[1;34m()\u001b[0m\n\u001b[1;32m----> 1\u001b[0m pd\u001b[38;5;241m.\u001b[39mset_option(\u001b[43mdisplay\u001b[49m\u001b[38;5;241;43m.\u001b[39;49m\u001b[43mmax_rows\u001b[49m,\u001b[38;5;241m500\u001b[39m)\n\u001b[0;32m      2\u001b[0m pd\u001b[38;5;241m.\u001b[39mset_option(display\u001b[38;5;241m.\u001b[39mmax_column,\u001b[38;5;241m500\u001b[39m)\n",
      "\u001b[1;31mAttributeError\u001b[0m: 'function' object has no attribute 'max_rows'"
     ]
    }
   ],
   "source": [
    "pd.set_option(display.max_rows,500)\n",
    "pd.set_option(display.max_column,500)"
   ]
  },
  {
   "cell_type": "markdown",
   "id": "9e878113",
   "metadata": {},
   "source": [
    "df.coulmns"
   ]
  },
  {
   "cell_type": "code",
   "execution_count": 7,
   "id": "af405185",
   "metadata": {},
   "outputs": [
    {
     "data": {
      "text/plain": [
       "Index(['id', 'season', 'city', 'date', 'team1', 'team2', 'toss_winner',\n",
       "       'toss_decision', 'result', 'dl_applied', 'winner', 'win_by_runs',\n",
       "       'win_by_wickets', 'player_of_match', 'venue', 'umpire1', 'umpire2',\n",
       "       'umpire3'],\n",
       "      dtype='object')"
      ]
     },
     "execution_count": 7,
     "metadata": {},
     "output_type": "execute_result"
    }
   ],
   "source": [
    "df.columns"
   ]
  },
  {
   "cell_type": "code",
   "execution_count": 8,
   "id": "3e44df50",
   "metadata": {},
   "outputs": [
    {
     "data": {
      "text/html": [
       "<div>\n",
       "<style scoped>\n",
       "    .dataframe tbody tr th:only-of-type {\n",
       "        vertical-align: middle;\n",
       "    }\n",
       "\n",
       "    .dataframe tbody tr th {\n",
       "        vertical-align: top;\n",
       "    }\n",
       "\n",
       "    .dataframe thead th {\n",
       "        text-align: right;\n",
       "    }\n",
       "</style>\n",
       "<table border=\"1\" class=\"dataframe\">\n",
       "  <thead>\n",
       "    <tr style=\"text-align: right;\">\n",
       "      <th></th>\n",
       "      <th>id</th>\n",
       "      <th>season</th>\n",
       "      <th>city</th>\n",
       "      <th>date</th>\n",
       "      <th>team1</th>\n",
       "      <th>team2</th>\n",
       "      <th>toss_winner</th>\n",
       "      <th>toss_decision</th>\n",
       "      <th>result</th>\n",
       "      <th>dl_applied</th>\n",
       "      <th>winner</th>\n",
       "      <th>win_by_runs</th>\n",
       "      <th>win_by_wickets</th>\n",
       "      <th>player_of_match</th>\n",
       "      <th>venue</th>\n",
       "      <th>umpire1</th>\n",
       "      <th>umpire2</th>\n",
       "      <th>umpire3</th>\n",
       "    </tr>\n",
       "  </thead>\n",
       "  <tbody>\n",
       "    <tr>\n",
       "      <th>0</th>\n",
       "      <td>1</td>\n",
       "      <td>2017</td>\n",
       "      <td>Hyderabad</td>\n",
       "      <td>2017-04-05</td>\n",
       "      <td>Sunrisers Hyderabad</td>\n",
       "      <td>Royal Challengers Bangalore</td>\n",
       "      <td>Royal Challengers Bangalore</td>\n",
       "      <td>field</td>\n",
       "      <td>normal</td>\n",
       "      <td>0</td>\n",
       "      <td>Sunrisers Hyderabad</td>\n",
       "      <td>35</td>\n",
       "      <td>0</td>\n",
       "      <td>Yuvraj Singh</td>\n",
       "      <td>Rajiv Gandhi International Stadium, Uppal</td>\n",
       "      <td>AY Dandekar</td>\n",
       "      <td>NJ Llong</td>\n",
       "      <td>NaN</td>\n",
       "    </tr>\n",
       "    <tr>\n",
       "      <th>1</th>\n",
       "      <td>2</td>\n",
       "      <td>2017</td>\n",
       "      <td>Pune</td>\n",
       "      <td>2017-04-06</td>\n",
       "      <td>Mumbai Indians</td>\n",
       "      <td>Rising Pune Supergiant</td>\n",
       "      <td>Rising Pune Supergiant</td>\n",
       "      <td>field</td>\n",
       "      <td>normal</td>\n",
       "      <td>0</td>\n",
       "      <td>Rising Pune Supergiant</td>\n",
       "      <td>0</td>\n",
       "      <td>7</td>\n",
       "      <td>SPD Smith</td>\n",
       "      <td>Maharashtra Cricket Association Stadium</td>\n",
       "      <td>A Nand Kishore</td>\n",
       "      <td>S Ravi</td>\n",
       "      <td>NaN</td>\n",
       "    </tr>\n",
       "    <tr>\n",
       "      <th>2</th>\n",
       "      <td>3</td>\n",
       "      <td>2017</td>\n",
       "      <td>Rajkot</td>\n",
       "      <td>2017-04-07</td>\n",
       "      <td>Gujarat Lions</td>\n",
       "      <td>Kolkata Knight Riders</td>\n",
       "      <td>Kolkata Knight Riders</td>\n",
       "      <td>field</td>\n",
       "      <td>normal</td>\n",
       "      <td>0</td>\n",
       "      <td>Kolkata Knight Riders</td>\n",
       "      <td>0</td>\n",
       "      <td>10</td>\n",
       "      <td>CA Lynn</td>\n",
       "      <td>Saurashtra Cricket Association Stadium</td>\n",
       "      <td>Nitin Menon</td>\n",
       "      <td>CK Nandan</td>\n",
       "      <td>NaN</td>\n",
       "    </tr>\n",
       "    <tr>\n",
       "      <th>3</th>\n",
       "      <td>4</td>\n",
       "      <td>2017</td>\n",
       "      <td>Indore</td>\n",
       "      <td>2017-04-08</td>\n",
       "      <td>Rising Pune Supergiant</td>\n",
       "      <td>Kings XI Punjab</td>\n",
       "      <td>Kings XI Punjab</td>\n",
       "      <td>field</td>\n",
       "      <td>normal</td>\n",
       "      <td>0</td>\n",
       "      <td>Kings XI Punjab</td>\n",
       "      <td>0</td>\n",
       "      <td>6</td>\n",
       "      <td>GJ Maxwell</td>\n",
       "      <td>Holkar Cricket Stadium</td>\n",
       "      <td>AK Chaudhary</td>\n",
       "      <td>C Shamshuddin</td>\n",
       "      <td>NaN</td>\n",
       "    </tr>\n",
       "    <tr>\n",
       "      <th>4</th>\n",
       "      <td>5</td>\n",
       "      <td>2017</td>\n",
       "      <td>Bangalore</td>\n",
       "      <td>2017-04-08</td>\n",
       "      <td>Royal Challengers Bangalore</td>\n",
       "      <td>Delhi Daredevils</td>\n",
       "      <td>Royal Challengers Bangalore</td>\n",
       "      <td>bat</td>\n",
       "      <td>normal</td>\n",
       "      <td>0</td>\n",
       "      <td>Royal Challengers Bangalore</td>\n",
       "      <td>15</td>\n",
       "      <td>0</td>\n",
       "      <td>KM Jadhav</td>\n",
       "      <td>M Chinnaswamy Stadium</td>\n",
       "      <td>NaN</td>\n",
       "      <td>NaN</td>\n",
       "      <td>NaN</td>\n",
       "    </tr>\n",
       "  </tbody>\n",
       "</table>\n",
       "</div>"
      ],
      "text/plain": [
       "   id  season       city        date                        team1  \\\n",
       "0   1    2017  Hyderabad  2017-04-05          Sunrisers Hyderabad   \n",
       "1   2    2017       Pune  2017-04-06               Mumbai Indians   \n",
       "2   3    2017     Rajkot  2017-04-07                Gujarat Lions   \n",
       "3   4    2017     Indore  2017-04-08       Rising Pune Supergiant   \n",
       "4   5    2017  Bangalore  2017-04-08  Royal Challengers Bangalore   \n",
       "\n",
       "                         team2                  toss_winner toss_decision  \\\n",
       "0  Royal Challengers Bangalore  Royal Challengers Bangalore         field   \n",
       "1       Rising Pune Supergiant       Rising Pune Supergiant         field   \n",
       "2        Kolkata Knight Riders        Kolkata Knight Riders         field   \n",
       "3              Kings XI Punjab              Kings XI Punjab         field   \n",
       "4             Delhi Daredevils  Royal Challengers Bangalore           bat   \n",
       "\n",
       "   result  dl_applied                       winner  win_by_runs  \\\n",
       "0  normal           0          Sunrisers Hyderabad           35   \n",
       "1  normal           0       Rising Pune Supergiant            0   \n",
       "2  normal           0        Kolkata Knight Riders            0   \n",
       "3  normal           0              Kings XI Punjab            0   \n",
       "4  normal           0  Royal Challengers Bangalore           15   \n",
       "\n",
       "   win_by_wickets player_of_match                                      venue  \\\n",
       "0               0    Yuvraj Singh  Rajiv Gandhi International Stadium, Uppal   \n",
       "1               7       SPD Smith    Maharashtra Cricket Association Stadium   \n",
       "2              10         CA Lynn     Saurashtra Cricket Association Stadium   \n",
       "3               6      GJ Maxwell                     Holkar Cricket Stadium   \n",
       "4               0       KM Jadhav                      M Chinnaswamy Stadium   \n",
       "\n",
       "          umpire1        umpire2  umpire3  \n",
       "0     AY Dandekar       NJ Llong      NaN  \n",
       "1  A Nand Kishore         S Ravi      NaN  \n",
       "2     Nitin Menon      CK Nandan      NaN  \n",
       "3    AK Chaudhary  C Shamshuddin      NaN  \n",
       "4             NaN            NaN      NaN  "
      ]
     },
     "execution_count": 8,
     "metadata": {},
     "output_type": "execute_result"
    }
   ],
   "source": [
    "df.head()"
   ]
  },
  {
   "cell_type": "code",
   "execution_count": null,
   "id": "ece8854b",
   "metadata": {},
   "outputs": [],
   "source": []
  },
  {
   "cell_type": "code",
   "execution_count": null,
   "id": "a6409658",
   "metadata": {},
   "outputs": [],
   "source": []
  },
  {
   "cell_type": "code",
   "execution_count": null,
   "id": "1916c1a2",
   "metadata": {},
   "outputs": [],
   "source": []
  },
  {
   "cell_type": "markdown",
   "id": "c5b64b64",
   "metadata": {},
   "source": [
    "### DataFrame"
   ]
  },
  {
   "cell_type": "code",
   "execution_count": 1,
   "id": "10531ef4",
   "metadata": {},
   "outputs": [],
   "source": [
    "import pandas as pd"
   ]
  },
  {
   "cell_type": "code",
   "execution_count": 6,
   "id": "80d44b1e",
   "metadata": {},
   "outputs": [],
   "source": [
    "path=(r\"C:\\Users\\DDR\\Desktop\\python velocity\\CSV\\in.csv\")"
   ]
  },
  {
   "cell_type": "code",
   "execution_count": 8,
   "id": "d33fbf8b",
   "metadata": {},
   "outputs": [],
   "source": [
    "df=pd.read_csv(path,encoding=('ISO-8859-1'))"
   ]
  },
  {
   "cell_type": "code",
   "execution_count": 9,
   "id": "4df23e5f",
   "metadata": {},
   "outputs": [
    {
     "data": {
      "text/html": [
       "<div>\n",
       "<style scoped>\n",
       "    .dataframe tbody tr th:only-of-type {\n",
       "        vertical-align: middle;\n",
       "    }\n",
       "\n",
       "    .dataframe tbody tr th {\n",
       "        vertical-align: top;\n",
       "    }\n",
       "\n",
       "    .dataframe thead th {\n",
       "        text-align: right;\n",
       "    }\n",
       "</style>\n",
       "<table border=\"1\" class=\"dataframe\">\n",
       "  <thead>\n",
       "    <tr style=\"text-align: right;\">\n",
       "      <th></th>\n",
       "      <th>Rank</th>\n",
       "      <th>Username</th>\n",
       "      <th>Owner</th>\n",
       "      <th>Brand\\naccount</th>\n",
       "      <th>Followers(millions)[2]</th>\n",
       "      <th>Profession/Activity</th>\n",
       "      <th>Country/Continent</th>\n",
       "    </tr>\n",
       "  </thead>\n",
       "  <tbody>\n",
       "    <tr>\n",
       "      <th>0</th>\n",
       "      <td>1</td>\n",
       "      <td>@instagram</td>\n",
       "      <td>Instagram</td>\n",
       "      <td>+</td>\n",
       "      <td>583.0</td>\n",
       "      <td>Social media platform</td>\n",
       "      <td>United States</td>\n",
       "    </tr>\n",
       "    <tr>\n",
       "      <th>1</th>\n",
       "      <td>2</td>\n",
       "      <td>@cristiano</td>\n",
       "      <td>Cristiano Ronaldo</td>\n",
       "      <td>-</td>\n",
       "      <td>525.0</td>\n",
       "      <td>Footballer</td>\n",
       "      <td>Portugal</td>\n",
       "    </tr>\n",
       "    <tr>\n",
       "      <th>2</th>\n",
       "      <td>3</td>\n",
       "      <td>@leomessi</td>\n",
       "      <td>Lionel Messi</td>\n",
       "      <td>-</td>\n",
       "      <td>411.0</td>\n",
       "      <td>Footballer</td>\n",
       "      <td>Argentina</td>\n",
       "    </tr>\n",
       "    <tr>\n",
       "      <th>3</th>\n",
       "      <td>4</td>\n",
       "      <td>@kyliejenner</td>\n",
       "      <td>Kylie Jenner</td>\n",
       "      <td>-</td>\n",
       "      <td>376.0</td>\n",
       "      <td>Television personality, model and businesswoman</td>\n",
       "      <td>United States</td>\n",
       "    </tr>\n",
       "    <tr>\n",
       "      <th>4</th>\n",
       "      <td>5</td>\n",
       "      <td>@selenagomez</td>\n",
       "      <td>Selena Gomez</td>\n",
       "      <td>-</td>\n",
       "      <td>366.0</td>\n",
       "      <td>Musician, actress, and businesswoman</td>\n",
       "      <td>United States</td>\n",
       "    </tr>\n",
       "    <tr>\n",
       "      <th>5</th>\n",
       "      <td>6</td>\n",
       "      <td>@therock</td>\n",
       "      <td>Dwayne Johnson</td>\n",
       "      <td>-</td>\n",
       "      <td>355.0</td>\n",
       "      <td>Actor and professional wrestler</td>\n",
       "      <td>United States</td>\n",
       "    </tr>\n",
       "    <tr>\n",
       "      <th>6</th>\n",
       "      <td>7</td>\n",
       "      <td>@arianagrande</td>\n",
       "      <td>Ariana Grande</td>\n",
       "      <td>-</td>\n",
       "      <td>346.0</td>\n",
       "      <td>Musician, actress and businesswoman</td>\n",
       "      <td>United States</td>\n",
       "    </tr>\n",
       "    <tr>\n",
       "      <th>7</th>\n",
       "      <td>8</td>\n",
       "      <td>@kimkardashian</td>\n",
       "      <td>Kim Kardashian</td>\n",
       "      <td>-</td>\n",
       "      <td>337.0</td>\n",
       "      <td>Television personality, model and businesswoman</td>\n",
       "      <td>United States</td>\n",
       "    </tr>\n",
       "    <tr>\n",
       "      <th>8</th>\n",
       "      <td>9</td>\n",
       "      <td>@beyonce</td>\n",
       "      <td>Beyoncé</td>\n",
       "      <td>-</td>\n",
       "      <td>288.0</td>\n",
       "      <td>Musician, actress and businesswoman</td>\n",
       "      <td>United States</td>\n",
       "    </tr>\n",
       "    <tr>\n",
       "      <th>9</th>\n",
       "      <td>10</td>\n",
       "      <td>@khloekardashian</td>\n",
       "      <td>Khloé Kardashian</td>\n",
       "      <td>-</td>\n",
       "      <td>285.0</td>\n",
       "      <td>Television personality and model</td>\n",
       "      <td>United States</td>\n",
       "    </tr>\n",
       "    <tr>\n",
       "      <th>10</th>\n",
       "      <td>11</td>\n",
       "      <td>@justinbieber</td>\n",
       "      <td>Justin Bieber</td>\n",
       "      <td>-</td>\n",
       "      <td>271.0</td>\n",
       "      <td>Musician</td>\n",
       "      <td>Canada</td>\n",
       "    </tr>\n",
       "    <tr>\n",
       "      <th>11</th>\n",
       "      <td>12</td>\n",
       "      <td>@kendalljenner</td>\n",
       "      <td>Kendall Jenner</td>\n",
       "      <td>-</td>\n",
       "      <td>268.0</td>\n",
       "      <td>Model and television personality</td>\n",
       "      <td>United States</td>\n",
       "    </tr>\n",
       "    <tr>\n",
       "      <th>12</th>\n",
       "      <td>13</td>\n",
       "      <td>@nike</td>\n",
       "      <td>Nike</td>\n",
       "      <td>+</td>\n",
       "      <td>259.0</td>\n",
       "      <td>Sportswear multinational</td>\n",
       "      <td>United States</td>\n",
       "    </tr>\n",
       "    <tr>\n",
       "      <th>13</th>\n",
       "      <td>14</td>\n",
       "      <td>@natgeo</td>\n",
       "      <td>National Geographic</td>\n",
       "      <td>+</td>\n",
       "      <td>252.0</td>\n",
       "      <td>Magazine</td>\n",
       "      <td>United States</td>\n",
       "    </tr>\n",
       "    <tr>\n",
       "      <th>14</th>\n",
       "      <td>15</td>\n",
       "      <td>@taylorswift</td>\n",
       "      <td>Taylor Swift</td>\n",
       "      <td>-</td>\n",
       "      <td>237.0</td>\n",
       "      <td>Musician and actress</td>\n",
       "      <td>United States</td>\n",
       "    </tr>\n",
       "    <tr>\n",
       "      <th>15</th>\n",
       "      <td>16</td>\n",
       "      <td>@jlo</td>\n",
       "      <td>Jennifer Lopez</td>\n",
       "      <td>-</td>\n",
       "      <td>230.0</td>\n",
       "      <td>Musician and actress</td>\n",
       "      <td>United States</td>\n",
       "    </tr>\n",
       "    <tr>\n",
       "      <th>16</th>\n",
       "      <td>17</td>\n",
       "      <td>@virat.kohli</td>\n",
       "      <td>Virat Kohli</td>\n",
       "      <td>-</td>\n",
       "      <td>229.0</td>\n",
       "      <td>Cricketer</td>\n",
       "      <td>India</td>\n",
       "    </tr>\n",
       "    <tr>\n",
       "      <th>17</th>\n",
       "      <td>18</td>\n",
       "      <td>@nickiminaj</td>\n",
       "      <td>Nicki Minaj</td>\n",
       "      <td>-</td>\n",
       "      <td>207.0</td>\n",
       "      <td>Musician</td>\n",
       "      <td>Trinidad and Tobago United States</td>\n",
       "    </tr>\n",
       "    <tr>\n",
       "      <th>18</th>\n",
       "      <td>19</td>\n",
       "      <td>@kourtneykardash</td>\n",
       "      <td>Kourtney Kardashian</td>\n",
       "      <td>-</td>\n",
       "      <td>206.0</td>\n",
       "      <td>Television personality and model</td>\n",
       "      <td>United States</td>\n",
       "    </tr>\n",
       "    <tr>\n",
       "      <th>19</th>\n",
       "      <td>20</td>\n",
       "      <td>@neymarjr</td>\n",
       "      <td>Neymar</td>\n",
       "      <td>-</td>\n",
       "      <td>198.0</td>\n",
       "      <td>Footballer</td>\n",
       "      <td>Brazil</td>\n",
       "    </tr>\n",
       "    <tr>\n",
       "      <th>20</th>\n",
       "      <td>21</td>\n",
       "      <td>@mileycyrus</td>\n",
       "      <td>Miley Cyrus</td>\n",
       "      <td>-</td>\n",
       "      <td>191.0</td>\n",
       "      <td>Musician and actress</td>\n",
       "      <td>United States</td>\n",
       "    </tr>\n",
       "    <tr>\n",
       "      <th>21</th>\n",
       "      <td>22</td>\n",
       "      <td>@katyperry</td>\n",
       "      <td>Katy Perry</td>\n",
       "      <td>-</td>\n",
       "      <td>184.0</td>\n",
       "      <td>Musician</td>\n",
       "      <td>United States</td>\n",
       "    </tr>\n",
       "    <tr>\n",
       "      <th>22</th>\n",
       "      <td>23</td>\n",
       "      <td>@zendaya</td>\n",
       "      <td>Zendaya</td>\n",
       "      <td>-</td>\n",
       "      <td>162.0</td>\n",
       "      <td>Actress and singer</td>\n",
       "      <td>United States</td>\n",
       "    </tr>\n",
       "    <tr>\n",
       "      <th>23</th>\n",
       "      <td>24</td>\n",
       "      <td>@kevinhart4real</td>\n",
       "      <td>Kevin Hart</td>\n",
       "      <td>-</td>\n",
       "      <td>161.0</td>\n",
       "      <td>Comedian and actor</td>\n",
       "      <td>United States</td>\n",
       "    </tr>\n",
       "    <tr>\n",
       "      <th>24</th>\n",
       "      <td>25</td>\n",
       "      <td>@iamcardib</td>\n",
       "      <td>Cardi B</td>\n",
       "      <td>-</td>\n",
       "      <td>146.0</td>\n",
       "      <td>Musician and actress</td>\n",
       "      <td>United States</td>\n",
       "    </tr>\n",
       "    <tr>\n",
       "      <th>25</th>\n",
       "      <td>26</td>\n",
       "      <td>@ddlovato</td>\n",
       "      <td>Demi Lovato</td>\n",
       "      <td>-</td>\n",
       "      <td>145.0</td>\n",
       "      <td>Musician and actress</td>\n",
       "      <td>United States</td>\n",
       "    </tr>\n",
       "    <tr>\n",
       "      <th>26</th>\n",
       "      <td>27</td>\n",
       "      <td>@kingjames</td>\n",
       "      <td>LeBron James</td>\n",
       "      <td>-</td>\n",
       "      <td>140.0</td>\n",
       "      <td>Basketball player</td>\n",
       "      <td>United States</td>\n",
       "    </tr>\n",
       "    <tr>\n",
       "      <th>27</th>\n",
       "      <td>28</td>\n",
       "      <td>@badgalriri</td>\n",
       "      <td>Rihanna</td>\n",
       "      <td>-</td>\n",
       "      <td>139.0</td>\n",
       "      <td>Musician and businesswoman</td>\n",
       "      <td>Barbados</td>\n",
       "    </tr>\n",
       "    <tr>\n",
       "      <th>28</th>\n",
       "      <td>29</td>\n",
       "      <td>@realmadrid</td>\n",
       "      <td>Real Madrid CF</td>\n",
       "      <td>+</td>\n",
       "      <td>129.0</td>\n",
       "      <td>Football club</td>\n",
       "      <td>Spain</td>\n",
       "    </tr>\n",
       "    <tr>\n",
       "      <th>29</th>\n",
       "      <td>30</td>\n",
       "      <td>@theellenshow</td>\n",
       "      <td>Ellen DeGeneres</td>\n",
       "      <td>-</td>\n",
       "      <td>129.0</td>\n",
       "      <td>Comedian and television personality</td>\n",
       "      <td>United States</td>\n",
       "    </tr>\n",
       "    <tr>\n",
       "      <th>30</th>\n",
       "      <td>31</td>\n",
       "      <td>@champagnepapi</td>\n",
       "      <td>Drake</td>\n",
       "      <td>-</td>\n",
       "      <td>128.0</td>\n",
       "      <td>Musician</td>\n",
       "      <td>Canada</td>\n",
       "    </tr>\n",
       "    <tr>\n",
       "      <th>31</th>\n",
       "      <td>32</td>\n",
       "      <td>@chrisbrownofficial</td>\n",
       "      <td>Chris Brown</td>\n",
       "      <td>-</td>\n",
       "      <td>127.0</td>\n",
       "      <td>Musician</td>\n",
       "      <td>United States</td>\n",
       "    </tr>\n",
       "    <tr>\n",
       "      <th>32</th>\n",
       "      <td>33</td>\n",
       "      <td>@fcbarcelona</td>\n",
       "      <td>FC Barcelona</td>\n",
       "      <td>+</td>\n",
       "      <td>115.0</td>\n",
       "      <td>Football club</td>\n",
       "      <td>Spain</td>\n",
       "    </tr>\n",
       "    <tr>\n",
       "      <th>33</th>\n",
       "      <td>34</td>\n",
       "      <td>@billieeilish</td>\n",
       "      <td>Billie Eilish</td>\n",
       "      <td>_</td>\n",
       "      <td>107.0</td>\n",
       "      <td>Musician</td>\n",
       "      <td>United States</td>\n",
       "    </tr>\n",
       "    <tr>\n",
       "      <th>34</th>\n",
       "      <td>35</td>\n",
       "      <td>@championsleague</td>\n",
       "      <td>UEFA Champions League</td>\n",
       "      <td>+</td>\n",
       "      <td>101.0</td>\n",
       "      <td>Club football competition</td>\n",
       "      <td>Europe</td>\n",
       "    </tr>\n",
       "    <tr>\n",
       "      <th>35</th>\n",
       "      <td>36</td>\n",
       "      <td>@gal_gadot</td>\n",
       "      <td>Gal Gadot</td>\n",
       "      <td>-</td>\n",
       "      <td>92.6</td>\n",
       "      <td>Actress</td>\n",
       "      <td>Israel</td>\n",
       "    </tr>\n",
       "    <tr>\n",
       "      <th>36</th>\n",
       "      <td>37</td>\n",
       "      <td>@k.mbappe</td>\n",
       "      <td>Kylian Mbappé</td>\n",
       "      <td>-</td>\n",
       "      <td>91.8</td>\n",
       "      <td>Footballer</td>\n",
       "      <td>France</td>\n",
       "    </tr>\n",
       "    <tr>\n",
       "      <th>37</th>\n",
       "      <td>38</td>\n",
       "      <td>@dualipa</td>\n",
       "      <td>Dua Lipa</td>\n",
       "      <td>-</td>\n",
       "      <td>87.5</td>\n",
       "      <td>Musician</td>\n",
       "      <td>United Kingdom Albania</td>\n",
       "    </tr>\n",
       "    <tr>\n",
       "      <th>38</th>\n",
       "      <td>39</td>\n",
       "      <td>@nasa</td>\n",
       "      <td>NASA</td>\n",
       "      <td>+</td>\n",
       "      <td>86.0</td>\n",
       "      <td>Space agency</td>\n",
       "      <td>United States</td>\n",
       "    </tr>\n",
       "    <tr>\n",
       "      <th>39</th>\n",
       "      <td>40</td>\n",
       "      <td>@lalalalisa_m</td>\n",
       "      <td>Lisa</td>\n",
       "      <td>-</td>\n",
       "      <td>85.7</td>\n",
       "      <td>Musician</td>\n",
       "      <td>Thailand</td>\n",
       "    </tr>\n",
       "    <tr>\n",
       "      <th>40</th>\n",
       "      <td>41</td>\n",
       "      <td>@vindiesel</td>\n",
       "      <td>Vin Diesel</td>\n",
       "      <td>-</td>\n",
       "      <td>85.2</td>\n",
       "      <td>Actor</td>\n",
       "      <td>United States</td>\n",
       "    </tr>\n",
       "    <tr>\n",
       "      <th>41</th>\n",
       "      <td>42</td>\n",
       "      <td>@priyankachopra</td>\n",
       "      <td>Priyanka Chopra</td>\n",
       "      <td>-</td>\n",
       "      <td>84.1</td>\n",
       "      <td>Actress and musician</td>\n",
       "      <td>India</td>\n",
       "    </tr>\n",
       "    <tr>\n",
       "      <th>42</th>\n",
       "      <td>43</td>\n",
       "      <td>@khaby00</td>\n",
       "      <td>Khaby Lame</td>\n",
       "      <td>-</td>\n",
       "      <td>80.2</td>\n",
       "      <td>Social media personality</td>\n",
       "      <td>Italy Senegal</td>\n",
       "    </tr>\n",
       "    <tr>\n",
       "      <th>43</th>\n",
       "      <td>44</td>\n",
       "      <td>@snoopdogg</td>\n",
       "      <td>Snoop Dogg</td>\n",
       "      <td>-</td>\n",
       "      <td>78.5</td>\n",
       "      <td>Musician</td>\n",
       "      <td>United States</td>\n",
       "    </tr>\n",
       "    <tr>\n",
       "      <th>44</th>\n",
       "      <td>45</td>\n",
       "      <td>@shakira</td>\n",
       "      <td>Shakira</td>\n",
       "      <td>-</td>\n",
       "      <td>77.9</td>\n",
       "      <td>Musician</td>\n",
       "      <td>Colombia</td>\n",
       "    </tr>\n",
       "    <tr>\n",
       "      <th>45</th>\n",
       "      <td>46</td>\n",
       "      <td>@shraddhakapoor</td>\n",
       "      <td>Shraddha Kapoor</td>\n",
       "      <td>-</td>\n",
       "      <td>76.9</td>\n",
       "      <td>Actress</td>\n",
       "      <td>India</td>\n",
       "    </tr>\n",
       "    <tr>\n",
       "      <th>46</th>\n",
       "      <td>47</td>\n",
       "      <td>@davidbeckham</td>\n",
       "      <td>David Beckham</td>\n",
       "      <td>-</td>\n",
       "      <td>76.6</td>\n",
       "      <td>Former FootballerPresident of Inter Miami</td>\n",
       "      <td>United Kingdom</td>\n",
       "    </tr>\n",
       "    <tr>\n",
       "      <th>47</th>\n",
       "      <td>48</td>\n",
       "      <td>@gigihadid</td>\n",
       "      <td>Gigi Hadid</td>\n",
       "      <td>-</td>\n",
       "      <td>76.4</td>\n",
       "      <td>Model</td>\n",
       "      <td>United States</td>\n",
       "    </tr>\n",
       "    <tr>\n",
       "      <th>48</th>\n",
       "      <td>49</td>\n",
       "      <td>@victoriassecret</td>\n",
       "      <td>Victoria's Secret</td>\n",
       "      <td>+</td>\n",
       "      <td>73.8</td>\n",
       "      <td>Lingerie company</td>\n",
       "      <td>United States</td>\n",
       "    </tr>\n",
       "    <tr>\n",
       "      <th>49</th>\n",
       "      <td>50</td>\n",
       "      <td>@aliaabhatt</td>\n",
       "      <td>Alia Bhatt</td>\n",
       "      <td>-</td>\n",
       "      <td>73.6</td>\n",
       "      <td>Actress and musician</td>\n",
       "      <td>United Kingdom India</td>\n",
       "    </tr>\n",
       "  </tbody>\n",
       "</table>\n",
       "</div>"
      ],
      "text/plain": [
       "    Rank             Username                  Owner Brand\\naccount  \\\n",
       "0      1           @instagram              Instagram              +   \n",
       "1      2           @cristiano      Cristiano Ronaldo              -   \n",
       "2      3            @leomessi           Lionel Messi              -   \n",
       "3      4         @kyliejenner           Kylie Jenner              -   \n",
       "4      5         @selenagomez           Selena Gomez              -   \n",
       "5      6             @therock         Dwayne Johnson              -   \n",
       "6      7        @arianagrande          Ariana Grande              -   \n",
       "7      8       @kimkardashian         Kim Kardashian              -   \n",
       "8      9             @beyonce                Beyoncé              -   \n",
       "9     10     @khloekardashian       Khloé Kardashian              -   \n",
       "10    11        @justinbieber          Justin Bieber              -   \n",
       "11    12       @kendalljenner         Kendall Jenner              -   \n",
       "12    13                @nike                   Nike              +   \n",
       "13    14              @natgeo    National Geographic              +   \n",
       "14    15         @taylorswift           Taylor Swift              -   \n",
       "15    16                 @jlo         Jennifer Lopez              -   \n",
       "16    17         @virat.kohli            Virat Kohli              -   \n",
       "17    18          @nickiminaj            Nicki Minaj              -   \n",
       "18    19     @kourtneykardash    Kourtney Kardashian              -   \n",
       "19    20            @neymarjr                 Neymar              -   \n",
       "20    21          @mileycyrus            Miley Cyrus              -   \n",
       "21    22           @katyperry             Katy Perry              -   \n",
       "22    23             @zendaya                Zendaya              -   \n",
       "23    24      @kevinhart4real             Kevin Hart              -   \n",
       "24    25           @iamcardib                Cardi B              -   \n",
       "25    26            @ddlovato            Demi Lovato              -   \n",
       "26    27           @kingjames           LeBron James              -   \n",
       "27    28          @badgalriri                Rihanna              -   \n",
       "28    29          @realmadrid         Real Madrid CF              +   \n",
       "29    30        @theellenshow        Ellen DeGeneres              -   \n",
       "30    31       @champagnepapi                  Drake              -   \n",
       "31    32  @chrisbrownofficial            Chris Brown              -   \n",
       "32    33         @fcbarcelona           FC Barcelona              +   \n",
       "33    34        @billieeilish          Billie Eilish              _   \n",
       "34    35     @championsleague  UEFA Champions League              +   \n",
       "35    36           @gal_gadot              Gal Gadot              -   \n",
       "36    37            @k.mbappe          Kylian Mbappé              -   \n",
       "37    38             @dualipa               Dua Lipa              -   \n",
       "38    39                @nasa                   NASA              +   \n",
       "39    40        @lalalalisa_m                   Lisa              -   \n",
       "40    41           @vindiesel             Vin Diesel              -   \n",
       "41    42      @priyankachopra        Priyanka Chopra              -   \n",
       "42    43             @khaby00             Khaby Lame              -   \n",
       "43    44           @snoopdogg             Snoop Dogg              -   \n",
       "44    45             @shakira                Shakira              -   \n",
       "45    46      @shraddhakapoor        Shraddha Kapoor              -   \n",
       "46    47        @davidbeckham          David Beckham              -   \n",
       "47    48           @gigihadid             Gigi Hadid              -   \n",
       "48    49     @victoriassecret      Victoria's Secret              +   \n",
       "49    50          @aliaabhatt             Alia Bhatt              -   \n",
       "\n",
       "    Followers(millions)[2]                              Profession/Activity  \\\n",
       "0                    583.0                            Social media platform   \n",
       "1                    525.0                                       Footballer   \n",
       "2                    411.0                                       Footballer   \n",
       "3                    376.0  Television personality, model and businesswoman   \n",
       "4                    366.0             Musician, actress, and businesswoman   \n",
       "5                    355.0                  Actor and professional wrestler   \n",
       "6                    346.0              Musician, actress and businesswoman   \n",
       "7                    337.0  Television personality, model and businesswoman   \n",
       "8                    288.0              Musician, actress and businesswoman   \n",
       "9                    285.0                 Television personality and model   \n",
       "10                   271.0                                         Musician   \n",
       "11                   268.0                 Model and television personality   \n",
       "12                   259.0                         Sportswear multinational   \n",
       "13                   252.0                                         Magazine   \n",
       "14                   237.0                             Musician and actress   \n",
       "15                   230.0                             Musician and actress   \n",
       "16                   229.0                                        Cricketer   \n",
       "17                   207.0                                         Musician   \n",
       "18                   206.0                 Television personality and model   \n",
       "19                   198.0                                       Footballer   \n",
       "20                   191.0                             Musician and actress   \n",
       "21                   184.0                                         Musician   \n",
       "22                   162.0                               Actress and singer   \n",
       "23                   161.0                               Comedian and actor   \n",
       "24                   146.0                             Musician and actress   \n",
       "25                   145.0                             Musician and actress   \n",
       "26                   140.0                                Basketball player   \n",
       "27                   139.0                       Musician and businesswoman   \n",
       "28                   129.0                                    Football club   \n",
       "29                   129.0              Comedian and television personality   \n",
       "30                   128.0                                         Musician   \n",
       "31                   127.0                                         Musician   \n",
       "32                   115.0                                    Football club   \n",
       "33                   107.0                                         Musician   \n",
       "34                   101.0                        Club football competition   \n",
       "35                    92.6                                          Actress   \n",
       "36                    91.8                                       Footballer   \n",
       "37                    87.5                                         Musician   \n",
       "38                    86.0                                     Space agency   \n",
       "39                    85.7                                         Musician   \n",
       "40                    85.2                                            Actor   \n",
       "41                    84.1                             Actress and musician   \n",
       "42                    80.2                         Social media personality   \n",
       "43                    78.5                                         Musician   \n",
       "44                    77.9                                         Musician   \n",
       "45                    76.9                                          Actress   \n",
       "46                    76.6        Former FootballerPresident of Inter Miami   \n",
       "47                    76.4                                            Model   \n",
       "48                    73.8                                 Lingerie company   \n",
       "49                    73.6                             Actress and musician   \n",
       "\n",
       "                     Country/Continent  \n",
       "0                        United States  \n",
       "1                             Portugal  \n",
       "2                            Argentina  \n",
       "3                        United States  \n",
       "4                        United States  \n",
       "5                        United States  \n",
       "6                        United States  \n",
       "7                        United States  \n",
       "8                        United States  \n",
       "9                        United States  \n",
       "10                              Canada  \n",
       "11                       United States  \n",
       "12                       United States  \n",
       "13                       United States  \n",
       "14                       United States  \n",
       "15                       United States  \n",
       "16                               India  \n",
       "17   Trinidad and Tobago United States  \n",
       "18                       United States  \n",
       "19                              Brazil  \n",
       "20                       United States  \n",
       "21                       United States  \n",
       "22                       United States  \n",
       "23                       United States  \n",
       "24                       United States  \n",
       "25                       United States  \n",
       "26                       United States  \n",
       "27                            Barbados  \n",
       "28                               Spain  \n",
       "29                       United States  \n",
       "30                              Canada  \n",
       "31                       United States  \n",
       "32                               Spain  \n",
       "33                       United States  \n",
       "34                              Europe  \n",
       "35                              Israel  \n",
       "36                              France  \n",
       "37              United Kingdom Albania  \n",
       "38                       United States  \n",
       "39                            Thailand  \n",
       "40                       United States  \n",
       "41                               India  \n",
       "42                       Italy Senegal  \n",
       "43                       United States  \n",
       "44                            Colombia  \n",
       "45                               India  \n",
       "46                      United Kingdom  \n",
       "47                       United States  \n",
       "48                       United States  \n",
       "49                United Kingdom India  "
      ]
     },
     "execution_count": 9,
     "metadata": {},
     "output_type": "execute_result"
    }
   ],
   "source": [
    "df"
   ]
  },
  {
   "cell_type": "code",
   "execution_count": null,
   "id": "202a35e1",
   "metadata": {},
   "outputs": [],
   "source": []
  }
 ],
 "metadata": {
  "kernelspec": {
   "display_name": "Python 3 (ipykernel)",
   "language": "python",
   "name": "python3"
  },
  "language_info": {
   "codemirror_mode": {
    "name": "ipython",
    "version": 3
   },
   "file_extension": ".py",
   "mimetype": "text/x-python",
   "name": "python",
   "nbconvert_exporter": "python",
   "pygments_lexer": "ipython3",
   "version": "3.9.12"
  }
 },
 "nbformat": 4,
 "nbformat_minor": 5
}
