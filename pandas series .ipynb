{
 "cells": [
  {
   "cell_type": "code",
   "execution_count": null,
   "id": "073f0b2d",
   "metadata": {},
   "outputs": [],
   "source": []
  },
  {
   "cell_type": "code",
   "execution_count": 1,
   "id": "c0ad7408",
   "metadata": {},
   "outputs": [],
   "source": [
    "import pandas as pd"
   ]
  },
  {
   "cell_type": "code",
   "execution_count": 2,
   "id": "75fd6bb7",
   "metadata": {},
   "outputs": [
    {
     "data": {
      "text/plain": [
       "'1.4.4'"
      ]
     },
     "execution_count": 2,
     "metadata": {},
     "output_type": "execute_result"
    }
   ],
   "source": [
    "pd.__version__"
   ]
  },
  {
   "cell_type": "code",
   "execution_count": 6,
   "id": "b4bad1e4",
   "metadata": {},
   "outputs": [],
   "source": [
    "a=[10,20,30,40,50]\n",
    "b=[60,70,80,90,100]\n",
    "c=[11,22,33,44,55]\n"
   ]
  },
  {
   "cell_type": "code",
   "execution_count": 9,
   "id": "e98149c0",
   "metadata": {},
   "outputs": [],
   "source": [
    "a=pd.DataFrame([a,b,c])"
   ]
  },
  {
   "cell_type": "code",
   "execution_count": 10,
   "id": "5bc60ebe",
   "metadata": {},
   "outputs": [
    {
     "data": {
      "text/html": [
       "<div>\n",
       "<style scoped>\n",
       "    .dataframe tbody tr th:only-of-type {\n",
       "        vertical-align: middle;\n",
       "    }\n",
       "\n",
       "    .dataframe tbody tr th {\n",
       "        vertical-align: top;\n",
       "    }\n",
       "\n",
       "    .dataframe thead th {\n",
       "        text-align: right;\n",
       "    }\n",
       "</style>\n",
       "<table border=\"1\" class=\"dataframe\">\n",
       "  <thead>\n",
       "    <tr style=\"text-align: right;\">\n",
       "      <th></th>\n",
       "      <th>0</th>\n",
       "      <th>1</th>\n",
       "      <th>2</th>\n",
       "      <th>3</th>\n",
       "      <th>4</th>\n",
       "    </tr>\n",
       "  </thead>\n",
       "  <tbody>\n",
       "    <tr>\n",
       "      <th>0</th>\n",
       "      <td>10</td>\n",
       "      <td>20</td>\n",
       "      <td>30</td>\n",
       "      <td>40</td>\n",
       "      <td>50</td>\n",
       "    </tr>\n",
       "    <tr>\n",
       "      <th>1</th>\n",
       "      <td>60</td>\n",
       "      <td>70</td>\n",
       "      <td>80</td>\n",
       "      <td>90</td>\n",
       "      <td>100</td>\n",
       "    </tr>\n",
       "    <tr>\n",
       "      <th>2</th>\n",
       "      <td>11</td>\n",
       "      <td>22</td>\n",
       "      <td>33</td>\n",
       "      <td>44</td>\n",
       "      <td>55</td>\n",
       "    </tr>\n",
       "  </tbody>\n",
       "</table>\n",
       "</div>"
      ],
      "text/plain": [
       "    0   1   2   3    4\n",
       "0  10  20  30  40   50\n",
       "1  60  70  80  90  100\n",
       "2  11  22  33  44   55"
      ]
     },
     "execution_count": 10,
     "metadata": {},
     "output_type": "execute_result"
    }
   ],
   "source": [
    "a"
   ]
  },
  {
   "cell_type": "code",
   "execution_count": 11,
   "id": "bdf98c45",
   "metadata": {},
   "outputs": [
    {
     "data": {
      "text/plain": [
       "pandas.core.frame.DataFrame"
      ]
     },
     "execution_count": 11,
     "metadata": {},
     "output_type": "execute_result"
    }
   ],
   "source": [
    "type(a)"
   ]
  },
  {
   "cell_type": "code",
   "execution_count": 15,
   "id": "1da13825",
   "metadata": {},
   "outputs": [
    {
     "name": "stdout",
     "output_type": "stream",
     "text": [
      "0        0   1   2   3    4\n",
      "0  10  20  30  40   50\n",
      "...\n",
      "dtype: object\n"
     ]
    }
   ],
   "source": [
    "b=pd.Series([a])\n",
    "print(b)\n"
   ]
  },
  {
   "cell_type": "code",
   "execution_count": 16,
   "id": "c6707d3a",
   "metadata": {},
   "outputs": [
    {
     "data": {
      "text/plain": [
       "pandas.core.series.Series"
      ]
     },
     "execution_count": 16,
     "metadata": {},
     "output_type": "execute_result"
    }
   ],
   "source": [
    "type(b)\n"
   ]
  },
  {
   "cell_type": "code",
   "execution_count": 26,
   "id": "1440d320",
   "metadata": {},
   "outputs": [],
   "source": [
    "my_dict={\"Name\":\"Akshay\",\"Marks\":85}\n",
    "c=pd.Series(my_dict)"
   ]
  },
  {
   "cell_type": "code",
   "execution_count": 27,
   "id": "6cef74ea",
   "metadata": {},
   "outputs": [
    {
     "data": {
      "text/plain": [
       "Name     Akshay\n",
       "Marks        85\n",
       "dtype: object"
      ]
     },
     "execution_count": 27,
     "metadata": {},
     "output_type": "execute_result"
    }
   ],
   "source": [
    "c"
   ]
  },
  {
   "cell_type": "code",
   "execution_count": 25,
   "id": "a40d876f",
   "metadata": {},
   "outputs": [
    {
     "data": {
      "text/plain": [
       "pandas.core.series.Series"
      ]
     },
     "execution_count": 25,
     "metadata": {},
     "output_type": "execute_result"
    }
   ],
   "source": [
    "type(c)"
   ]
  },
  {
   "cell_type": "markdown",
   "id": "8505ffc4",
   "metadata": {},
   "source": [
    "### Attribute Of Series"
   ]
  },
  {
   "cell_type": "raw",
   "id": "59a70926",
   "metadata": {},
   "source": [
    "1.index \n",
    "2.array\n",
    "3.values\n",
    "4.Name\n",
    "5.shape\n",
    "6.empty"
   ]
  },
  {
   "cell_type": "code",
   "execution_count": 33,
   "id": "452ca0b4",
   "metadata": {},
   "outputs": [],
   "source": [
    "a=pd.Series([\"Akshay\",\"om\",\"Ravi\"],index=[\"a\",\"b\",\"c\"],name=\"mock\")  # index "
   ]
  },
  {
   "cell_type": "code",
   "execution_count": 34,
   "id": "aed2bc3e",
   "metadata": {},
   "outputs": [
    {
     "data": {
      "text/plain": [
       "a    Akshay\n",
       "b        om\n",
       "c      Ravi\n",
       "Name: mock, dtype: object"
      ]
     },
     "execution_count": 34,
     "metadata": {},
     "output_type": "execute_result"
    }
   ],
   "source": [
    "a"
   ]
  },
  {
   "cell_type": "code",
   "execution_count": 35,
   "id": "df4160f9",
   "metadata": {},
   "outputs": [],
   "source": [
    "a=pd.Series([\"Akshay\",\"om\",\"Ravi\"],index=[\"a\",\"b\",\"c\"],name=\"mock\")"
   ]
  },
  {
   "cell_type": "code",
   "execution_count": 37,
   "id": "98b1a51e",
   "metadata": {},
   "outputs": [
    {
     "data": {
      "text/plain": [
       "'mock'"
      ]
     },
     "execution_count": 37,
     "metadata": {},
     "output_type": "execute_result"
    }
   ],
   "source": [
    "a.name    # name "
   ]
  },
  {
   "cell_type": "code",
   "execution_count": 38,
   "id": "6809df5c",
   "metadata": {},
   "outputs": [
    {
     "data": {
      "text/plain": [
       "Index(['a', 'b', 'c'], dtype='object')"
      ]
     },
     "execution_count": 38,
     "metadata": {},
     "output_type": "execute_result"
    }
   ],
   "source": [
    "a.index  # index "
   ]
  },
  {
   "cell_type": "code",
   "execution_count": 40,
   "id": "4a8765a7",
   "metadata": {},
   "outputs": [
    {
     "data": {
      "text/plain": [
       "array(['Akshay', 'om', 'Ravi'], dtype=object)"
      ]
     },
     "execution_count": 40,
     "metadata": {},
     "output_type": "execute_result"
    }
   ],
   "source": [
    "a.values  # value "
   ]
  },
  {
   "cell_type": "code",
   "execution_count": 41,
   "id": "fe95f4cc",
   "metadata": {},
   "outputs": [
    {
     "data": {
      "text/plain": [
       "<PandasArray>\n",
       "['Akshay', 'om', 'Ravi']\n",
       "Length: 3, dtype: object"
      ]
     },
     "execution_count": 41,
     "metadata": {},
     "output_type": "execute_result"
    }
   ],
   "source": [
    "a.array # array"
   ]
  },
  {
   "cell_type": "code",
   "execution_count": 42,
   "id": "260c27dc",
   "metadata": {},
   "outputs": [
    {
     "data": {
      "text/plain": [
       "(3,)"
      ]
     },
     "execution_count": 42,
     "metadata": {},
     "output_type": "execute_result"
    }
   ],
   "source": [
    "a.shape # shape"
   ]
  },
  {
   "cell_type": "code",
   "execution_count": 43,
   "id": "9c33b2ab",
   "metadata": {},
   "outputs": [
    {
     "data": {
      "text/plain": [
       "False"
      ]
     },
     "execution_count": 43,
     "metadata": {},
     "output_type": "execute_result"
    }
   ],
   "source": [
    "a.empty  # empty "
   ]
  },
  {
   "cell_type": "markdown",
   "id": "8cee6e64",
   "metadata": {},
   "source": [
    "### mathematical operation "
   ]
  },
  {
   "cell_type": "code",
   "execution_count": null,
   "id": "1aed405b",
   "metadata": {},
   "outputs": [],
   "source": []
  },
  {
   "cell_type": "code",
   "execution_count": 44,
   "id": "b0428a11",
   "metadata": {},
   "outputs": [],
   "source": [
    "s1=pd.Series([10,20,30,40,50])\n",
    "s2=pd.Series([70,80,90,10,20])"
   ]
  },
  {
   "cell_type": "code",
   "execution_count": 45,
   "id": "92d17798",
   "metadata": {},
   "outputs": [
    {
     "data": {
      "text/plain": [
       "0    10\n",
       "1    20\n",
       "2    30\n",
       "3    40\n",
       "4    50\n",
       "dtype: int64"
      ]
     },
     "execution_count": 45,
     "metadata": {},
     "output_type": "execute_result"
    }
   ],
   "source": [
    "s1"
   ]
  },
  {
   "cell_type": "code",
   "execution_count": 46,
   "id": "a18eddc0",
   "metadata": {},
   "outputs": [
    {
     "data": {
      "text/plain": [
       "0    70\n",
       "1    80\n",
       "2    90\n",
       "3    10\n",
       "4    20\n",
       "dtype: int64"
      ]
     },
     "execution_count": 46,
     "metadata": {},
     "output_type": "execute_result"
    }
   ],
   "source": [
    "s2"
   ]
  },
  {
   "cell_type": "code",
   "execution_count": 47,
   "id": "e1cc1f62",
   "metadata": {},
   "outputs": [
    {
     "data": {
      "text/plain": [
       "0     80\n",
       "1    100\n",
       "2    120\n",
       "3     50\n",
       "4     70\n",
       "dtype: int64"
      ]
     },
     "execution_count": 47,
     "metadata": {},
     "output_type": "execute_result"
    }
   ],
   "source": [
    "s1.add(s2)  # addition "
   ]
  },
  {
   "cell_type": "code",
   "execution_count": 48,
   "id": "55322529",
   "metadata": {},
   "outputs": [
    {
     "data": {
      "text/plain": [
       "0   -60\n",
       "1   -60\n",
       "2   -60\n",
       "3    30\n",
       "4    30\n",
       "dtype: int64"
      ]
     },
     "execution_count": 48,
     "metadata": {},
     "output_type": "execute_result"
    }
   ],
   "source": [
    "s1.sub(s2)  # substraction "
   ]
  },
  {
   "cell_type": "code",
   "execution_count": 53,
   "id": "251098af",
   "metadata": {},
   "outputs": [
    {
     "data": {
      "text/plain": [
       "0     700\n",
       "1    1600\n",
       "2    2700\n",
       "3     400\n",
       "4    1000\n",
       "dtype: int64"
      ]
     },
     "execution_count": 53,
     "metadata": {},
     "output_type": "execute_result"
    }
   ],
   "source": [
    "#s1.multiply(s2)  # multiplicagtion\n",
    "s1*s2"
   ]
  },
  {
   "cell_type": "code",
   "execution_count": 56,
   "id": "a7d493ff",
   "metadata": {},
   "outputs": [
    {
     "data": {
      "text/plain": [
       "0     0\n",
       "1     0\n",
       "2     0\n",
       "3    10\n",
       "4    20\n",
       "dtype: int64"
      ]
     },
     "execution_count": 56,
     "metadata": {},
     "output_type": "execute_result"
    }
   ],
   "source": [
    "s2.mod(s1)   # Division "
   ]
  },
  {
   "cell_type": "code",
   "execution_count": 57,
   "id": "3089f9ce",
   "metadata": {},
   "outputs": [
    {
     "data": {
      "text/plain": [
       "0    2824752490000000000\n",
       "1                      0\n",
       "2   -3320298383486222336\n",
       "3   -5047021154770878464\n",
       "4                      0\n",
       "dtype: int64"
      ]
     },
     "execution_count": 57,
     "metadata": {},
     "output_type": "execute_result"
    }
   ],
   "source": [
    "s2.pow(s1)  # power "
   ]
  },
  {
   "cell_type": "code",
   "execution_count": 58,
   "id": "24edf318",
   "metadata": {},
   "outputs": [
    {
     "data": {
      "text/plain": [
       "0     True\n",
       "1     True\n",
       "2     True\n",
       "3    False\n",
       "4    False\n",
       "dtype: bool"
      ]
     },
     "execution_count": 58,
     "metadata": {},
     "output_type": "execute_result"
    }
   ],
   "source": [
    "s1.le(s2) #lessthan"
   ]
  },
  {
   "cell_type": "code",
   "execution_count": 62,
   "id": "f681cb8a",
   "metadata": {},
   "outputs": [
    {
     "data": {
      "text/plain": [
       "0    0\n",
       "1    0\n",
       "2    0\n",
       "3    4\n",
       "4    2\n",
       "dtype: int64"
      ]
     },
     "execution_count": 62,
     "metadata": {},
     "output_type": "execute_result"
    }
   ],
   "source": [
    "s1.floordiv(s2)  # Floordiv"
   ]
  },
  {
   "cell_type": "code",
   "execution_count": null,
   "id": "0f83ef78",
   "metadata": {},
   "outputs": [],
   "source": []
  },
  {
   "cell_type": "code",
   "execution_count": null,
   "id": "28906310",
   "metadata": {},
   "outputs": [],
   "source": []
  }
 ],
 "metadata": {
  "kernelspec": {
   "display_name": "Python 3 (ipykernel)",
   "language": "python",
   "name": "python3"
  },
  "language_info": {
   "codemirror_mode": {
    "name": "ipython",
    "version": 3
   },
   "file_extension": ".py",
   "mimetype": "text/x-python",
   "name": "python",
   "nbconvert_exporter": "python",
   "pygments_lexer": "ipython3",
   "version": "3.9.13"
  }
 },
 "nbformat": 4,
 "nbformat_minor": 5
}
